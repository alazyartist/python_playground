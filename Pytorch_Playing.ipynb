{
  "nbformat": 4,
  "nbformat_minor": 0,
  "metadata": {
    "colab": {
      "provenance": [],
      "collapsed_sections": [
        "-rF0fK0tnc36",
        "nMr-g-B8syS2"
      ],
      "authorship_tag": "ABX9TyNSJM0gZAr6Lbkzy8vesfeZ",
      "include_colab_link": true
    },
    "kernelspec": {
      "name": "python3",
      "display_name": "Python 3"
    },
    "language_info": {
      "name": "python"
    }
  },
  "cells": [
    {
      "cell_type": "markdown",
      "metadata": {
        "id": "view-in-github",
        "colab_type": "text"
      },
      "source": [
        "<a href=\"https://colab.research.google.com/github/alazyartist/python_playground/blob/master/Pytorch_Playing.ipynb\" target=\"_parent\"><img src=\"https://colab.research.google.com/assets/colab-badge.svg\" alt=\"Open In Colab\"/></a>"
      ]
    },
    {
      "cell_type": "code",
      "execution_count": 1,
      "metadata": {
        "colab": {
          "base_uri": "https://localhost:8080/"
        },
        "id": "QrsSdN71mqEb",
        "outputId": "ff4cf591-de6b-4235-ca90-04f1d4a518ea"
      },
      "outputs": [
        {
          "output_type": "stream",
          "name": "stdout",
          "text": [
            "1.13.1+cu116\n"
          ]
        }
      ],
      "source": [
        "import torch\n",
        "import pandas as pd\n",
        "import numpy as np\n",
        "import matplotlib.pyplot as plt\n",
        "print(torch.__version__)"
      ]
    },
    {
      "cell_type": "markdown",
      "source": [
        "### making scalars and vectors"
      ],
      "metadata": {
        "id": "-rF0fK0tnc36"
      }
    },
    {
      "cell_type": "code",
      "source": [
        "scalar = torch.tensor([4])\n",
        "scalar.ndim"
      ],
      "metadata": {
        "colab": {
          "base_uri": "https://localhost:8080/"
        },
        "id": "BvAwGGDhnj-4",
        "outputId": "be3fd9c4-4928-47f0-fe02-87c09a1e57f5"
      },
      "execution_count": 2,
      "outputs": [
        {
          "output_type": "execute_result",
          "data": {
            "text/plain": [
              "1"
            ]
          },
          "metadata": {},
          "execution_count": 2
        }
      ]
    },
    {
      "cell_type": "code",
      "source": [
        "scalar.shape"
      ],
      "metadata": {
        "colab": {
          "base_uri": "https://localhost:8080/"
        },
        "id": "065REGd3oFmP",
        "outputId": "87fc7670-dc51-4925-ae38-1c9768828e7e"
      },
      "execution_count": 3,
      "outputs": [
        {
          "output_type": "execute_result",
          "data": {
            "text/plain": [
              "torch.Size([1])"
            ]
          },
          "metadata": {},
          "execution_count": 3
        }
      ]
    },
    {
      "cell_type": "code",
      "source": [
        "vector1 = torch.tensor([4,2])\n",
        "vector1.shape"
      ],
      "metadata": {
        "colab": {
          "base_uri": "https://localhost:8080/"
        },
        "id": "BRTngtXboay6",
        "outputId": "f054b077-36e7-479e-8107-c9b1c8d3a1f1"
      },
      "execution_count": 4,
      "outputs": [
        {
          "output_type": "execute_result",
          "data": {
            "text/plain": [
              "torch.Size([2])"
            ]
          },
          "metadata": {},
          "execution_count": 4
        }
      ]
    },
    {
      "cell_type": "code",
      "source": [
        "vector = torch.tensor([[4,3,2],[2,3,4]])\n",
        "vector.ndim"
      ],
      "metadata": {
        "colab": {
          "base_uri": "https://localhost:8080/"
        },
        "id": "wgPvErccnzNg",
        "outputId": "939885a2-a58a-4374-d2f3-d10f035de0c9"
      },
      "execution_count": 5,
      "outputs": [
        {
          "output_type": "execute_result",
          "data": {
            "text/plain": [
              "2"
            ]
          },
          "metadata": {},
          "execution_count": 5
        }
      ]
    },
    {
      "cell_type": "code",
      "source": [
        "vector.shape"
      ],
      "metadata": {
        "colab": {
          "base_uri": "https://localhost:8080/"
        },
        "id": "7642EXMBoDN_",
        "outputId": "be28e093-6c90-4d14-9ea1-f6ed9540ae66"
      },
      "execution_count": 6,
      "outputs": [
        {
          "output_type": "execute_result",
          "data": {
            "text/plain": [
              "torch.Size([2, 3])"
            ]
          },
          "metadata": {},
          "execution_count": 6
        }
      ]
    },
    {
      "cell_type": "code",
      "source": [
        "randomTensor = torch.rand(3,224,224)\n",
        "randomTensor.shape, randomTensor.ndim"
      ],
      "metadata": {
        "colab": {
          "base_uri": "https://localhost:8080/"
        },
        "id": "mLSXyzCDowtf",
        "outputId": "8cbf70ab-3c48-47b4-c384-59473c75ffef"
      },
      "execution_count": 7,
      "outputs": [
        {
          "output_type": "execute_result",
          "data": {
            "text/plain": [
              "(torch.Size([3, 224, 224]), 3)"
            ]
          },
          "metadata": {},
          "execution_count": 7
        }
      ]
    },
    {
      "cell_type": "code",
      "source": [
        "zeroes = torch.zeros(4,2)\n",
        "ones = torch.ones(4,2)\n",
        "zeroes,ones"
      ],
      "metadata": {
        "colab": {
          "base_uri": "https://localhost:8080/"
        },
        "id": "q1rTUI3OqPYV",
        "outputId": "7389d675-1d68-45e5-86ee-ecb20671a20e"
      },
      "execution_count": 8,
      "outputs": [
        {
          "output_type": "execute_result",
          "data": {
            "text/plain": [
              "(tensor([[0., 0.],\n",
              "         [0., 0.],\n",
              "         [0., 0.],\n",
              "         [0., 0.]]), tensor([[1., 1.],\n",
              "         [1., 1.],\n",
              "         [1., 1.],\n",
              "         [1., 1.]]))"
            ]
          },
          "metadata": {},
          "execution_count": 8
        }
      ]
    },
    {
      "cell_type": "code",
      "source": [
        "rng = torch.arange(1,11)\n",
        "rng"
      ],
      "metadata": {
        "colab": {
          "base_uri": "https://localhost:8080/"
        },
        "id": "vmGm3AV3qkzR",
        "outputId": "24e5d892-933a-4d0b-a36a-e305b5f83eed"
      },
      "execution_count": 9,
      "outputs": [
        {
          "output_type": "execute_result",
          "data": {
            "text/plain": [
              "tensor([ 1,  2,  3,  4,  5,  6,  7,  8,  9, 10])"
            ]
          },
          "metadata": {},
          "execution_count": 9
        }
      ]
    },
    {
      "cell_type": "markdown",
      "source": [
        "### DataTypes"
      ],
      "metadata": {
        "id": "nMr-g-B8syS2"
      }
    },
    {
      "cell_type": "code",
      "source": [
        "fl32 = torch.tensor([2.1,2.2,2.4])\n",
        "fl32.dtype"
      ],
      "metadata": {
        "colab": {
          "base_uri": "https://localhost:8080/"
        },
        "id": "Ls3_fva4rB6p",
        "outputId": "677e1f05-c2c2-49a2-db20-53fa35ea943b"
      },
      "execution_count": 10,
      "outputs": [
        {
          "output_type": "execute_result",
          "data": {
            "text/plain": [
              "torch.float32"
            ]
          },
          "metadata": {},
          "execution_count": 10
        }
      ]
    },
    {
      "cell_type": "code",
      "source": [
        "fl16= torch.tensor([2.1,2.2,2.4], dtype=torch.float16)\n",
        "fl16.dtype"
      ],
      "metadata": {
        "colab": {
          "base_uri": "https://localhost:8080/"
        },
        "id": "HvMgEYvZrmJi",
        "outputId": "84b7da62-df83-46dd-f07a-e245dda3aae7"
      },
      "execution_count": 11,
      "outputs": [
        {
          "output_type": "execute_result",
          "data": {
            "text/plain": [
              "torch.float16"
            ]
          },
          "metadata": {},
          "execution_count": 11
        }
      ]
    },
    {
      "cell_type": "code",
      "source": [
        "fl16 =fl16.type(torch.float32)\n",
        "fl16.dtype"
      ],
      "metadata": {
        "colab": {
          "base_uri": "https://localhost:8080/"
        },
        "id": "dHTUu6nlsPyd",
        "outputId": "8c577f1b-6ff0-4fd3-c467-f11554a861eb"
      },
      "execution_count": 12,
      "outputs": [
        {
          "output_type": "execute_result",
          "data": {
            "text/plain": [
              "torch.float32"
            ]
          },
          "metadata": {},
          "execution_count": 12
        }
      ]
    },
    {
      "cell_type": "code",
      "source": [
        "mult = torch.matmul(fl16,fl32)\n",
        "mult"
      ],
      "metadata": {
        "colab": {
          "base_uri": "https://localhost:8080/"
        },
        "id": "QcbbdHzMr4L4",
        "outputId": "e35e3f26-a480-4de4-d36f-1c8ac9b13d64"
      },
      "execution_count": 13,
      "outputs": [
        {
          "output_type": "execute_result",
          "data": {
            "text/plain": [
              "tensor(15.0084)"
            ]
          },
          "metadata": {},
          "execution_count": 13
        }
      ]
    },
    {
      "cell_type": "markdown",
      "source": [
        "### Maths"
      ],
      "metadata": {
        "id": "42OBP0pJs8e_"
      }
    },
    {
      "cell_type": "code",
      "source": [
        "ten1= torch.tensor([4,3,2])\n",
        "ten2= torch.tensor([1,1,1])\n",
        "ten1 + ten2"
      ],
      "metadata": {
        "colab": {
          "base_uri": "https://localhost:8080/"
        },
        "id": "yAHqGU0OtAx2",
        "outputId": "623e48db-59a4-4329-df6d-1739d1e2b817"
      },
      "execution_count": 14,
      "outputs": [
        {
          "output_type": "execute_result",
          "data": {
            "text/plain": [
              "tensor([5, 4, 3])"
            ]
          },
          "metadata": {},
          "execution_count": 14
        }
      ]
    },
    {
      "cell_type": "code",
      "source": [
        "ten1 @ ten2"
      ],
      "metadata": {
        "colab": {
          "base_uri": "https://localhost:8080/"
        },
        "id": "npZ4HOckuwoq",
        "outputId": "66279167-4c63-4aca-fdd6-53e7e72fd3b5"
      },
      "execution_count": 15,
      "outputs": [
        {
          "output_type": "execute_result",
          "data": {
            "text/plain": [
              "tensor(9)"
            ]
          },
          "metadata": {},
          "execution_count": 15
        }
      ]
    },
    {
      "cell_type": "code",
      "source": [
        "%%time\n",
        "mult = torch.matmul(ten1,ten2)\n",
        "mult"
      ],
      "metadata": {
        "colab": {
          "base_uri": "https://localhost:8080/"
        },
        "id": "g4Si1NpZtzhc",
        "outputId": "0f680706-f1e6-4940-a01e-0c373023c9b5"
      },
      "execution_count": 16,
      "outputs": [
        {
          "output_type": "stream",
          "name": "stdout",
          "text": [
            "CPU times: user 0 ns, sys: 436 µs, total: 436 µs\n",
            "Wall time: 354 µs\n"
          ]
        },
        {
          "output_type": "execute_result",
          "data": {
            "text/plain": [
              "tensor(9)"
            ]
          },
          "metadata": {},
          "execution_count": 16
        }
      ]
    },
    {
      "cell_type": "code",
      "source": [
        "%%time\n",
        "value = 0\n",
        "for i in range (len(ten1)):\n",
        "  value += ten1[i] * ten2[i]\n",
        "  print(value)"
      ],
      "metadata": {
        "colab": {
          "base_uri": "https://localhost:8080/"
        },
        "id": "WeDYXHz9uBfJ",
        "outputId": "25c7f67c-0d9a-401a-db98-4df8349029a2"
      },
      "execution_count": 17,
      "outputs": [
        {
          "output_type": "stream",
          "name": "stdout",
          "text": [
            "tensor(4)\n",
            "tensor(7)\n",
            "tensor(9)\n",
            "CPU times: user 2.29 ms, sys: 39 µs, total: 2.33 ms\n",
            "Wall time: 3.08 ms\n"
          ]
        }
      ]
    },
    {
      "cell_type": "markdown",
      "source": [
        "when multiplying tensors inner shapes must match"
      ],
      "metadata": {
        "id": "Kn-RpwlNvaEl"
      }
    },
    {
      "cell_type": "code",
      "source": [
        "tena = torch.rand(3,4)\n",
        "tenb =  torch.rand(4,10)\n",
        "inmatch = torch.matmul(tena,tenb)\n",
        "tena.shape,tenb.shape,inmatch.shape"
      ],
      "metadata": {
        "colab": {
          "base_uri": "https://localhost:8080/"
        },
        "id": "ayC-akzmvDeH",
        "outputId": "7892e348-9c33-4775-ee59-e622bd226d59"
      },
      "execution_count": 18,
      "outputs": [
        {
          "output_type": "execute_result",
          "data": {
            "text/plain": [
              "(torch.Size([3, 4]), torch.Size([4, 10]), torch.Size([3, 10]))"
            ]
          },
          "metadata": {},
          "execution_count": 18
        }
      ]
    },
    {
      "cell_type": "markdown",
      "source": [
        "Swap around shapes with transpose (tensor).T"
      ],
      "metadata": {
        "id": "4NPNjmK9wSbD"
      }
    },
    {
      "cell_type": "code",
      "source": [
        "tena.shape, tena.T.shape "
      ],
      "metadata": {
        "colab": {
          "base_uri": "https://localhost:8080/"
        },
        "id": "mXqIuMotv_ar",
        "outputId": "b6803e76-5ee5-4675-f65c-5450da21472b"
      },
      "execution_count": 19,
      "outputs": [
        {
          "output_type": "execute_result",
          "data": {
            "text/plain": [
              "(torch.Size([3, 4]), torch.Size([4, 3]))"
            ]
          },
          "metadata": {},
          "execution_count": 19
        }
      ]
    },
    {
      "cell_type": "code",
      "source": [
        "tenb.shape,tenb.T.shape"
      ],
      "metadata": {
        "colab": {
          "base_uri": "https://localhost:8080/"
        },
        "id": "8n3vDEj9wQxF",
        "outputId": "cc8a684c-bd0f-4fe2-dd9f-e6f34230dec5"
      },
      "execution_count": 20,
      "outputs": [
        {
          "output_type": "execute_result",
          "data": {
            "text/plain": [
              "(torch.Size([4, 10]), torch.Size([10, 4]))"
            ]
          },
          "metadata": {},
          "execution_count": 20
        }
      ]
    },
    {
      "cell_type": "markdown",
      "source": [
        "## NumPy"
      ],
      "metadata": {
        "id": "Cr8pDhpUUv_t"
      }
    },
    {
      "cell_type": "code",
      "source": [
        "array = np.arange(1.0,8.0)\n",
        "tensor = torch.from_numpy(array)\n",
        "array, tensor"
      ],
      "metadata": {
        "colab": {
          "base_uri": "https://localhost:8080/"
        },
        "id": "kUbIVE_bwcdR",
        "outputId": "c38dd726-f9ac-47b6-f728-d0d92eea27ae"
      },
      "execution_count": 22,
      "outputs": [
        {
          "output_type": "execute_result",
          "data": {
            "text/plain": [
              "(array([1., 2., 3., 4., 5., 6., 7.]),\n",
              " tensor([1., 2., 3., 4., 5., 6., 7.], dtype=torch.float64))"
            ]
          },
          "metadata": {},
          "execution_count": 22
        }
      ]
    },
    {
      "cell_type": "code",
      "source": [
        "tensor = torch.ones(7)\n",
        "numpy_tensor = tensor.numpy()\n",
        "tensor.dtype, numpy_tensor.dtype"
      ],
      "metadata": {
        "colab": {
          "base_uri": "https://localhost:8080/"
        },
        "id": "FJMmI8bEUu6B",
        "outputId": "680d5bdd-e483-46e6-986a-41e2b67dce2d"
      },
      "execution_count": 27,
      "outputs": [
        {
          "output_type": "execute_result",
          "data": {
            "text/plain": [
              "(torch.float32, dtype('float32'))"
            ]
          },
          "metadata": {},
          "execution_count": 27
        }
      ]
    },
    {
      "cell_type": "markdown",
      "source": [
        "## Random Seed"
      ],
      "metadata": {
        "id": "fA5f1zuHV0_8"
      }
    },
    {
      "cell_type": "markdown",
      "source": [
        "torch.rand() is pure random not reproducible"
      ],
      "metadata": {
        "id": "RscRLGtyWNAc"
      }
    },
    {
      "cell_type": "code",
      "source": [
        "randa = torch.rand(3,4)\n",
        "randb = torch.rand(3,4)\n",
        "print(randa)\n",
        "print(randb)\n",
        "print(randa==randb)"
      ],
      "metadata": {
        "colab": {
          "base_uri": "https://localhost:8080/"
        },
        "id": "A9GK-72DVwie",
        "outputId": "9704e184-820b-40e6-bc36-ebf8dedc501c"
      },
      "execution_count": 29,
      "outputs": [
        {
          "output_type": "stream",
          "name": "stdout",
          "text": [
            "tensor([[0.8006, 0.8937, 0.4939, 0.7378],\n",
            "        [0.8716, 0.8433, 0.9719, 0.7876],\n",
            "        [0.4139, 0.1252, 0.9490, 0.7145]])\n",
            "tensor([[0.5958, 0.2939, 0.5754, 0.5720],\n",
            "        [0.2519, 0.5677, 0.7594, 0.2930],\n",
            "        [0.7720, 0.2622, 0.7962, 0.0319]])\n",
            "tensor([[False, False, False, False],\n",
            "        [False, False, False, False],\n",
            "        [False, False, False, False]])\n"
          ]
        }
      ]
    },
    {
      "cell_type": "markdown",
      "source": [
        "set random_seed before each itteration to reproduce randomness-pseudorandom"
      ],
      "metadata": {
        "id": "IKbnY6l1W4lB"
      }
    },
    {
      "cell_type": "code",
      "source": [
        "RANDOM_SEED=69\n",
        "torch.manual_seed(RANDOM_SEED)\n",
        "randc = torch.rand(3,4)\n",
        "\n",
        "torch.manual_seed(RANDOM_SEED)\n",
        "randd = torch.rand(3,4)\n",
        "\n",
        "print(randc)\n",
        "print(randd)\n",
        "print(randc ==randd)"
      ],
      "metadata": {
        "colab": {
          "base_uri": "https://localhost:8080/"
        },
        "id": "htsFEM7oWUD8",
        "outputId": "7b02f062-a495-4154-fac1-992f5541211b"
      },
      "execution_count": 31,
      "outputs": [
        {
          "output_type": "stream",
          "name": "stdout",
          "text": [
            "tensor([[0.8398, 0.8042, 0.1213, 0.5309],\n",
            "        [0.6646, 0.4077, 0.0888, 0.2429],\n",
            "        [0.7053, 0.6216, 0.9188, 0.0185]])\n",
            "tensor([[0.8398, 0.8042, 0.1213, 0.5309],\n",
            "        [0.6646, 0.4077, 0.0888, 0.2429],\n",
            "        [0.7053, 0.6216, 0.9188, 0.0185]])\n",
            "tensor([[True, True, True, True],\n",
            "        [True, True, True, True],\n",
            "        [True, True, True, True]])\n"
          ]
        }
      ]
    },
    {
      "cell_type": "markdown",
      "source": [
        "## Linear Regression\n",
        "\n",
        "y= mx + b"
      ],
      "metadata": {
        "id": "vfB7zAfefqfe"
      }
    },
    {
      "cell_type": "code",
      "source": [
        "weight = 0.7\n",
        "bias = 0.3\n",
        "\n",
        "start = 0\n",
        "end = 1\n",
        "step = 0.02\n",
        "X = torch.arange(start,end,step).unsqueeze(dim=1)\n",
        "y = weight * X * bias\n",
        "X[:10],y[:10]"
      ],
      "metadata": {
        "colab": {
          "base_uri": "https://localhost:8080/"
        },
        "id": "KusU3Kbzf06W",
        "outputId": "6985222f-5ba5-44e9-844d-032a6189d7d7"
      },
      "execution_count": 38,
      "outputs": [
        {
          "output_type": "execute_result",
          "data": {
            "text/plain": [
              "(tensor([[0.0000],\n",
              "         [0.0200],\n",
              "         [0.0400],\n",
              "         [0.0600],\n",
              "         [0.0800],\n",
              "         [0.1000],\n",
              "         [0.1200],\n",
              "         [0.1400],\n",
              "         [0.1600],\n",
              "         [0.1800]]), tensor([[0.0000],\n",
              "         [0.0042],\n",
              "         [0.0084],\n",
              "         [0.0126],\n",
              "         [0.0168],\n",
              "         [0.0210],\n",
              "         [0.0252],\n",
              "         [0.0294],\n",
              "         [0.0336],\n",
              "         [0.0378]]))"
            ]
          },
          "metadata": {},
          "execution_count": 38
        }
      ]
    },
    {
      "cell_type": "markdown",
      "source": [
        "### Split Test and Training Data"
      ],
      "metadata": {
        "id": "PXt9OlYfgZHn"
      }
    },
    {
      "cell_type": "markdown",
      "source": [
        "Training -> Validation -> Test\n",
        "60-80 -> 10-20 -> 10-20 "
      ],
      "metadata": {
        "id": "l3KmAGS0guzY"
      }
    },
    {
      "cell_type": "code",
      "source": [
        "train_split = int(0.8 * len(X)) # 80% of data used for training set, 20% for testing \n",
        "X_train, y_train = X[:train_split], y[:train_split]\n",
        "X_test, y_test = X[train_split:], y[train_split:]\n",
        "\n",
        "len(X_train), len(y_train), len(X_test), len(y_test)"
      ],
      "metadata": {
        "colab": {
          "base_uri": "https://localhost:8080/"
        },
        "id": "SOWhlwwCgc-1",
        "outputId": "cf58bfd1-22f7-4ff7-8188-48a00cec7045"
      },
      "execution_count": 39,
      "outputs": [
        {
          "output_type": "execute_result",
          "data": {
            "text/plain": [
              "(40, 40, 10, 10)"
            ]
          },
          "metadata": {},
          "execution_count": 39
        }
      ]
    },
    {
      "cell_type": "code",
      "source": [
        "def plot_predictions(train_data=X_train,train_labels=y_train,test_data=X_test,test_labels=y_test,predictions=None):\n",
        "  plt.figure(figsize=(10,7))\n",
        "  plt.scatter(train_data,train_labels,c='b',s=4,label=\"Training Data\")\n",
        "  plt.scatter(test_data,test_labels,c='g',s=4,label=\"Testing Data\")\n",
        "\n",
        "  if predictions is not None:\n",
        "    plt.scatter(test_data,predictions,c='r',s=4,label=\"Predictions\")\n",
        "\n",
        "  plt.legend(prop={'size':14})"
      ],
      "metadata": {
        "id": "XTjEBV5-iG70"
      },
      "execution_count": 41,
      "outputs": []
    },
    {
      "cell_type": "code",
      "source": [
        "plot_predictions()"
      ],
      "metadata": {
        "colab": {
          "base_uri": "https://localhost:8080/",
          "height": 428
        },
        "id": "qQUJkx0cjFSf",
        "outputId": "a5168cbb-30fc-4acb-d7eb-8477ee970606"
      },
      "execution_count": 42,
      "outputs": [
        {
          "output_type": "display_data",
          "data": {
            "text/plain": [
              "<Figure size 720x504 with 1 Axes>"
            ],
            "image/png": "[encoded data removed]"
          },
          "metadata": {
            "needs_background": "light"
          }
        }
      ]
    },
    {
      "cell_type": "markdown",
      "source": [
        "### Linear Regression Model"
      ],
      "metadata": {
        "id": "xAaId2D_jNNf"
      }
    },
    {
      "cell_type": "code",
      "source": [
        "from torch import nn\n",
        "# nn.Module is a basecalss building block\n",
        "class LinearRegressionModel(nn.Module):\n",
        "  def __init__(self):\n",
        "    super().__init__()\n",
        "    self.weights = nn.Parameter(torch.randn(1,dtype=torch.float),requires_grad=True)\n",
        "    self.bias = nn.Parameter(torch.randn(1,dtype=torch.float),requires_grad=True)\n",
        "  def forward(self, x:torch.Tensor) -> torch.Tensor:\n",
        "    return self.weights * x + self.bias"
      ],
      "metadata": {
        "id": "DBbt-gjRjTas"
      },
      "execution_count": 50,
      "outputs": []
    },
    {
      "cell_type": "code",
      "source": [
        "torch.manual_seed(699)\n",
        "model_0 = LinearRegressionModel()\n",
        "list(model_0.parameters())"
      ],
      "metadata": {
        "colab": {
          "base_uri": "https://localhost:8080/"
        },
        "id": "nWDulOcNkgdF",
        "outputId": "457fa252-66a1-4033-a79d-19d755bc3c0f"
      },
      "execution_count": 68,
      "outputs": [
        {
          "output_type": "execute_result",
          "data": {
            "text/plain": [
              "[Parameter containing:\n",
              " tensor([0.5463], requires_grad=True), Parameter containing:\n",
              " tensor([0.2054], requires_grad=True)]"
            ]
          },
          "metadata": {},
          "execution_count": 68
        }
      ]
    },
    {
      "cell_type": "code",
      "source": [
        "with torch.inference_mode():\n",
        "  y_preds = model_0(X_test)\n",
        "  print(f\"Number of testing samples: {len(X_test)}\") \n",
        "print(f\"Number of predictions made: {len(y_preds)}\")\n",
        "print(f\"Predicted values:\\n{y_preds}\")"
      ],
      "metadata": {
        "colab": {
          "base_uri": "https://localhost:8080/"
        },
        "id": "o6FLPWI-lHrm",
        "outputId": "c034a5de-2a41-4383-dc5d-268b1c7f9ab4"
      },
      "execution_count": 69,
      "outputs": [
        {
          "output_type": "stream",
          "name": "stdout",
          "text": [
            "Number of testing samples: 10\n",
            "Number of predictions made: 10\n",
            "Predicted values:\n",
            "tensor([[0.6425],\n",
            "        [0.6534],\n",
            "        [0.6643],\n",
            "        [0.6753],\n",
            "        [0.6862],\n",
            "        [0.6971],\n",
            "        [0.7080],\n",
            "        [0.7190],\n",
            "        [0.7299],\n",
            "        [0.7408]])\n"
          ]
        }
      ]
    },
    {
      "cell_type": "code",
      "source": [
        "plot_predictions(predictions=y_preds)"
      ],
      "metadata": {
        "colab": {
          "base_uri": "https://localhost:8080/",
          "height": 428
        },
        "id": "D47VWuCbloZb",
        "outputId": "03477391-35ca-406a-812b-3df57c0756c1"
      },
      "execution_count": 72,
      "outputs": [
        {
          "output_type": "display_data",
          "data": {
            "text/plain": [
              "<Figure size 720x504 with 1 Axes>"
            ],
            "image/png": "[encoded data removed]"
          },
          "metadata": {
            "needs_background": "light"
          }
        }
      ]
    },
    {
      "cell_type": "markdown",
      "source": [
        "Predictions are way off because we have not implemented a loss function and optimizer to get our predicted data to be more alike our test data"
      ],
      "metadata": {
        "id": "KMP7lXzenr6C"
      }
    },
    {
      "cell_type": "markdown",
      "source": [
        "**Loss Function:** a function to measure how wrong your model's predictios are to the ideal outputs, lower is better,\n",
        "\n",
        "**Optimizer Function:** Tells your model how to update its internal parameters to best lower the loss."
      ],
      "metadata": {
        "id": "zVrqgIRpotLM"
      }
    },
    {
      "cell_type": "markdown",
      "source": [
        "PyTorch training loop\n",
        "For the training loop, we'll build the following steps:\n",
        "\n",
        "Number\tStep name\tWhat does it do?\tCode example\n",
        "___\n",
        "1\tForward pass The model goes through all of the training data once, performing its forward() function calculations.\tmodel(x_train)\n",
        "2\tCalculate the loss\tThe model's outputs (predictions) are compared to the ground truth and evaluated to see how wrong they are.\tloss = loss_fn(y_pred, y_train)\n",
        "3\tZero gradients\tThe optimizers gradients are set to zero (they are accumulated by default) so they can be recalculated for the specific training step.\toptimizer.zero_grad()\n",
        "4\tPerform backpropagation on the loss\tComputes the gradient of the loss with respect for every model parameter to be updated (each parameter with requires_grad=True). This is known as backpropagation, hence \"backwards\".\tloss.backward()\n",
        "5\tUpdate the optimizer (gradient descent)\tUpdate the parameters with requires_grad=True with respect to the loss gradients in order to improve them.\toptimizer.step()"
      ],
      "metadata": {
        "id": "icdl9dTmoQC7"
      }
    },
    {
      "cell_type": "code",
      "source": [
        "loss_fn = nn.L1Loss()\n",
        "optimizer = torch.optim.SGD(params=model_0.paramaters(),lr=0.1)"
      ],
      "metadata": {
        "id": "z04Xhg5oncfe"
      },
      "execution_count": null,
      "outputs": []
    }
  ]
}