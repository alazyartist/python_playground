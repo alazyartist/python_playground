{
  "nbformat": 4,
  "nbformat_minor": 0,
  "metadata": {
    "colab": {
      "provenance": [],
      "collapsed_sections": [
        "-rF0fK0tnc36",
        "nMr-g-B8syS2"
      ],
      "authorship_tag": "ABX9TyOhuK0317ufn5F11wh2hbw0",
      "include_colab_link": true
    },
    "kernelspec": {
      "name": "python3",
      "display_name": "Python 3"
    },
    "language_info": {
      "name": "python"
    },
    "accelerator": "GPU",
    "gpuClass": "standard"
  },
  "cells": [
    {
      "cell_type": "markdown",
      "metadata": {
        "id": "view-in-github",
        "colab_type": "text"
      },
      "source": [
        "<a href=\"https://colab.research.google.com/github/alazyartist/python_playground/blob/master/Pytorch_Playing.ipynb\" target=\"_parent\"><img src=\"https://colab.research.google.com/assets/colab-badge.svg\" alt=\"Open In Colab\"/></a>"
      ]
    },
    {
      "cell_type": "code",
      "execution_count": 118,
      "metadata": {
        "colab": {
          "base_uri": "https://localhost:8080/"
        },
        "id": "QrsSdN71mqEb",
        "outputId": "8b94eaf3-87b7-4925-ca79-7f4d7a6b682a"
      },
      "outputs": [
        {
          "output_type": "stream",
          "name": "stdout",
          "text": [
            "1.13.1+cu116\n"
          ]
        }
      ],
      "source": [
        "import torch\n",
        "import pandas as pd\n",
        "import numpy as np\n",
        "import matplotlib.pyplot as plt\n",
        "print(torch.__version__)"
      ]
    },
    {
      "cell_type": "markdown",
      "source": [
        "### making scalars and vectors"
      ],
      "metadata": {
        "id": "-rF0fK0tnc36"
      }
    },
    {
      "cell_type": "code",
      "source": [
        "scalar = torch.tensor([4])\n",
        "scalar.ndim"
      ],
      "metadata": {
        "colab": {
          "base_uri": "https://localhost:8080/"
        },
        "id": "BvAwGGDhnj-4",
        "outputId": "32cac61f-1feb-4cb2-8f45-5b71a1155cbe"
      },
      "execution_count": 119,
      "outputs": [
        {
          "output_type": "execute_result",
          "data": {
            "text/plain": [
              "1"
            ]
          },
          "metadata": {},
          "execution_count": 119
        }
      ]
    },
    {
      "cell_type": "code",
      "source": [
        "scalar.shape"
      ],
      "metadata": {
        "colab": {
          "base_uri": "https://localhost:8080/"
        },
        "id": "065REGd3oFmP",
        "outputId": "46a63d20-814c-4577-ad7a-1ad018b3bb68"
      },
      "execution_count": 120,
      "outputs": [
        {
          "output_type": "execute_result",
          "data": {
            "text/plain": [
              "torch.Size([1])"
            ]
          },
          "metadata": {},
          "execution_count": 120
        }
      ]
    },
    {
      "cell_type": "code",
      "source": [
        "vector1 = torch.tensor([4,2])\n",
        "vector1.shape"
      ],
      "metadata": {
        "colab": {
          "base_uri": "https://localhost:8080/"
        },
        "id": "BRTngtXboay6",
        "outputId": "0411ff1e-bf78-4f7e-e4be-387bd1658f42"
      },
      "execution_count": 121,
      "outputs": [
        {
          "output_type": "execute_result",
          "data": {
            "text/plain": [
              "torch.Size([2])"
            ]
          },
          "metadata": {},
          "execution_count": 121
        }
      ]
    },
    {
      "cell_type": "code",
      "source": [
        "vector = torch.tensor([[4,3,2],[2,3,4]])\n",
        "vector.ndim"
      ],
      "metadata": {
        "colab": {
          "base_uri": "https://localhost:8080/"
        },
        "id": "wgPvErccnzNg",
        "outputId": "988753dc-a1ca-4a5c-ec65-1ef6d879b705"
      },
      "execution_count": 122,
      "outputs": [
        {
          "output_type": "execute_result",
          "data": {
            "text/plain": [
              "2"
            ]
          },
          "metadata": {},
          "execution_count": 122
        }
      ]
    },
    {
      "cell_type": "code",
      "source": [
        "vector.shape"
      ],
      "metadata": {
        "colab": {
          "base_uri": "https://localhost:8080/"
        },
        "id": "7642EXMBoDN_",
        "outputId": "88acf9ca-34a9-40b7-e09c-a87a4085b27e"
      },
      "execution_count": 123,
      "outputs": [
        {
          "output_type": "execute_result",
          "data": {
            "text/plain": [
              "torch.Size([2, 3])"
            ]
          },
          "metadata": {},
          "execution_count": 123
        }
      ]
    },
    {
      "cell_type": "code",
      "source": [
        "randomTensor = torch.rand(3,224,224)\n",
        "randomTensor.shape, randomTensor.ndim"
      ],
      "metadata": {
        "colab": {
          "base_uri": "https://localhost:8080/"
        },
        "id": "mLSXyzCDowtf",
        "outputId": "f801c469-bc00-4fba-a7f3-8e785d9c304c"
      },
      "execution_count": 124,
      "outputs": [
        {
          "output_type": "execute_result",
          "data": {
            "text/plain": [
              "(torch.Size([3, 224, 224]), 3)"
            ]
          },
          "metadata": {},
          "execution_count": 124
        }
      ]
    },
    {
      "cell_type": "code",
      "source": [
        "zeroes = torch.zeros(4,2)\n",
        "ones = torch.ones(4,2)\n",
        "zeroes,ones"
      ],
      "metadata": {
        "colab": {
          "base_uri": "https://localhost:8080/"
        },
        "id": "q1rTUI3OqPYV",
        "outputId": "3e04087e-d8fd-4453-e553-00bcc59fcc0e"
      },
      "execution_count": 125,
      "outputs": [
        {
          "output_type": "execute_result",
          "data": {
            "text/plain": [
              "(tensor([[0., 0.],\n",
              "         [0., 0.],\n",
              "         [0., 0.],\n",
              "         [0., 0.]]), tensor([[1., 1.],\n",
              "         [1., 1.],\n",
              "         [1., 1.],\n",
              "         [1., 1.]]))"
            ]
          },
          "metadata": {},
          "execution_count": 125
        }
      ]
    },
    {
      "cell_type": "code",
      "source": [
        "rng = torch.arange(1,11)\n",
        "rng"
      ],
      "metadata": {
        "colab": {
          "base_uri": "https://localhost:8080/"
        },
        "id": "vmGm3AV3qkzR",
        "outputId": "14834c91-edf0-4ddf-cd64-5ddaa2397058"
      },
      "execution_count": 126,
      "outputs": [
        {
          "output_type": "execute_result",
          "data": {
            "text/plain": [
              "tensor([ 1,  2,  3,  4,  5,  6,  7,  8,  9, 10])"
            ]
          },
          "metadata": {},
          "execution_count": 126
        }
      ]
    },
    {
      "cell_type": "markdown",
      "source": [
        "### DataTypes"
      ],
      "metadata": {
        "id": "nMr-g-B8syS2"
      }
    },
    {
      "cell_type": "code",
      "source": [
        "fl32 = torch.tensor([2.1,2.2,2.4])\n",
        "fl32.dtype"
      ],
      "metadata": {
        "colab": {
          "base_uri": "https://localhost:8080/"
        },
        "id": "Ls3_fva4rB6p",
        "outputId": "91881e7d-a278-488f-e961-8808ca1d744b"
      },
      "execution_count": 127,
      "outputs": [
        {
          "output_type": "execute_result",
          "data": {
            "text/plain": [
              "torch.float32"
            ]
          },
          "metadata": {},
          "execution_count": 127
        }
      ]
    },
    {
      "cell_type": "code",
      "source": [
        "fl16= torch.tensor([2.1,2.2,2.4], dtype=torch.float16)\n",
        "fl16.dtype"
      ],
      "metadata": {
        "colab": {
          "base_uri": "https://localhost:8080/"
        },
        "id": "HvMgEYvZrmJi",
        "outputId": "94d9175c-db02-49ad-8ec3-da66efd4616a"
      },
      "execution_count": 128,
      "outputs": [
        {
          "output_type": "execute_result",
          "data": {
            "text/plain": [
              "torch.float16"
            ]
          },
          "metadata": {},
          "execution_count": 128
        }
      ]
    },
    {
      "cell_type": "code",
      "source": [
        "fl16 =fl16.type(torch.float32)\n",
        "fl16.dtype"
      ],
      "metadata": {
        "colab": {
          "base_uri": "https://localhost:8080/"
        },
        "id": "dHTUu6nlsPyd",
        "outputId": "e73e9bd6-acd9-497d-b9ee-4f6bdaebe8f0"
      },
      "execution_count": 129,
      "outputs": [
        {
          "output_type": "execute_result",
          "data": {
            "text/plain": [
              "torch.float32"
            ]
          },
          "metadata": {},
          "execution_count": 129
        }
      ]
    },
    {
      "cell_type": "code",
      "source": [
        "mult = torch.matmul(fl16,fl32)\n",
        "mult"
      ],
      "metadata": {
        "colab": {
          "base_uri": "https://localhost:8080/"
        },
        "id": "QcbbdHzMr4L4",
        "outputId": "ce85f1ed-23de-4348-f18e-f44c67c23537"
      },
      "execution_count": 130,
      "outputs": [
        {
          "output_type": "execute_result",
          "data": {
            "text/plain": [
              "tensor(15.0084)"
            ]
          },
          "metadata": {},
          "execution_count": 130
        }
      ]
    },
    {
      "cell_type": "markdown",
      "source": [
        "### Maths"
      ],
      "metadata": {
        "id": "42OBP0pJs8e_"
      }
    },
    {
      "cell_type": "code",
      "source": [
        "ten1= torch.tensor([4,3,2])\n",
        "ten2= torch.tensor([1,1,1])\n",
        "ten1 + ten2"
      ],
      "metadata": {
        "colab": {
          "base_uri": "https://localhost:8080/"
        },
        "id": "yAHqGU0OtAx2",
        "outputId": "3c32f501-3f4b-405d-cd50-29f50a635268"
      },
      "execution_count": 131,
      "outputs": [
        {
          "output_type": "execute_result",
          "data": {
            "text/plain": [
              "tensor([5, 4, 3])"
            ]
          },
          "metadata": {},
          "execution_count": 131
        }
      ]
    },
    {
      "cell_type": "code",
      "source": [
        "ten1 @ ten2"
      ],
      "metadata": {
        "colab": {
          "base_uri": "https://localhost:8080/"
        },
        "id": "npZ4HOckuwoq",
        "outputId": "96a8a86d-d9d0-4525-ee08-6d80d0308edb"
      },
      "execution_count": 132,
      "outputs": [
        {
          "output_type": "execute_result",
          "data": {
            "text/plain": [
              "tensor(9)"
            ]
          },
          "metadata": {},
          "execution_count": 132
        }
      ]
    },
    {
      "cell_type": "code",
      "source": [
        "%%time\n",
        "mult = torch.matmul(ten1,ten2)\n",
        "mult"
      ],
      "metadata": {
        "colab": {
          "base_uri": "https://localhost:8080/"
        },
        "id": "g4Si1NpZtzhc",
        "outputId": "c171bf09-1426-4866-ea8b-9cc17073bfd4"
      },
      "execution_count": 133,
      "outputs": [
        {
          "output_type": "stream",
          "name": "stdout",
          "text": [
            "CPU times: user 44 µs, sys: 0 ns, total: 44 µs\n",
            "Wall time: 49.6 µs\n"
          ]
        },
        {
          "output_type": "execute_result",
          "data": {
            "text/plain": [
              "tensor(9)"
            ]
          },
          "metadata": {},
          "execution_count": 133
        }
      ]
    },
    {
      "cell_type": "code",
      "source": [
        "%%time\n",
        "value = 0\n",
        "for i in range (len(ten1)):\n",
        "  value += ten1[i] * ten2[i]\n",
        "  print(value)"
      ],
      "metadata": {
        "colab": {
          "base_uri": "https://localhost:8080/"
        },
        "id": "WeDYXHz9uBfJ",
        "outputId": "fe8d3ec0-83cf-43b9-e723-187e4a550c39"
      },
      "execution_count": 134,
      "outputs": [
        {
          "output_type": "stream",
          "name": "stdout",
          "text": [
            "tensor(4)\n",
            "tensor(7)\n",
            "tensor(9)\n",
            "CPU times: user 2.11 ms, sys: 13 µs, total: 2.13 ms\n",
            "Wall time: 2.29 ms\n"
          ]
        }
      ]
    },
    {
      "cell_type": "markdown",
      "source": [
        "when multiplying tensors inner shapes must match"
      ],
      "metadata": {
        "id": "Kn-RpwlNvaEl"
      }
    },
    {
      "cell_type": "code",
      "source": [
        "tena = torch.rand(3,4)\n",
        "tenb =  torch.rand(4,10)\n",
        "inmatch = torch.matmul(tena,tenb)\n",
        "tena.shape,tenb.shape,inmatch.shape"
      ],
      "metadata": {
        "colab": {
          "base_uri": "https://localhost:8080/"
        },
        "id": "ayC-akzmvDeH",
        "outputId": "11d49497-6d1f-4c68-8884-7902d94f93f6"
      },
      "execution_count": 135,
      "outputs": [
        {
          "output_type": "execute_result",
          "data": {
            "text/plain": [
              "(torch.Size([3, 4]), torch.Size([4, 10]), torch.Size([3, 10]))"
            ]
          },
          "metadata": {},
          "execution_count": 135
        }
      ]
    },
    {
      "cell_type": "markdown",
      "source": [
        "Swap around shapes with transpose (tensor).T"
      ],
      "metadata": {
        "id": "4NPNjmK9wSbD"
      }
    },
    {
      "cell_type": "code",
      "source": [
        "tena.shape, tena.T.shape "
      ],
      "metadata": {
        "colab": {
          "base_uri": "https://localhost:8080/"
        },
        "id": "mXqIuMotv_ar",
        "outputId": "ac8986dc-77b9-4c0b-e645-e5d21a44c81e"
      },
      "execution_count": 136,
      "outputs": [
        {
          "output_type": "execute_result",
          "data": {
            "text/plain": [
              "(torch.Size([3, 4]), torch.Size([4, 3]))"
            ]
          },
          "metadata": {},
          "execution_count": 136
        }
      ]
    },
    {
      "cell_type": "code",
      "source": [
        "tenb.shape,tenb.T.shape"
      ],
      "metadata": {
        "colab": {
          "base_uri": "https://localhost:8080/"
        },
        "id": "8n3vDEj9wQxF",
        "outputId": "3eea36e3-8245-4413-d4c5-f625ed1ec9d6"
      },
      "execution_count": 137,
      "outputs": [
        {
          "output_type": "execute_result",
          "data": {
            "text/plain": [
              "(torch.Size([4, 10]), torch.Size([10, 4]))"
            ]
          },
          "metadata": {},
          "execution_count": 137
        }
      ]
    },
    {
      "cell_type": "markdown",
      "source": [
        "## NumPy"
      ],
      "metadata": {
        "id": "Cr8pDhpUUv_t"
      }
    },
    {
      "cell_type": "code",
      "source": [
        "array = np.arange(1.0,8.0)\n",
        "tensor = torch.from_numpy(array)\n",
        "array, tensor"
      ],
      "metadata": {
        "colab": {
          "base_uri": "https://localhost:8080/"
        },
        "id": "kUbIVE_bwcdR",
        "outputId": "12507ed5-ab52-49ce-af21-e23227b5d7b7"
      },
      "execution_count": 138,
      "outputs": [
        {
          "output_type": "execute_result",
          "data": {
            "text/plain": [
              "(array([1., 2., 3., 4., 5., 6., 7.]),\n",
              " tensor([1., 2., 3., 4., 5., 6., 7.], dtype=torch.float64))"
            ]
          },
          "metadata": {},
          "execution_count": 138
        }
      ]
    },
    {
      "cell_type": "code",
      "source": [
        "tensor = torch.ones(7)\n",
        "numpy_tensor = tensor.numpy()\n",
        "tensor.dtype, numpy_tensor.dtype"
      ],
      "metadata": {
        "colab": {
          "base_uri": "https://localhost:8080/"
        },
        "id": "FJMmI8bEUu6B",
        "outputId": "cc3cb753-16ad-4961-f62b-325e8dca23a6"
      },
      "execution_count": 139,
      "outputs": [
        {
          "output_type": "execute_result",
          "data": {
            "text/plain": [
              "(torch.float32, dtype('float32'))"
            ]
          },
          "metadata": {},
          "execution_count": 139
        }
      ]
    },
    {
      "cell_type": "markdown",
      "source": [
        "## Random Seed"
      ],
      "metadata": {
        "id": "fA5f1zuHV0_8"
      }
    },
    {
      "cell_type": "markdown",
      "source": [
        "torch.rand() is pure random not reproducible"
      ],
      "metadata": {
        "id": "RscRLGtyWNAc"
      }
    },
    {
      "cell_type": "code",
      "source": [
        "randa = torch.rand(3,4)\n",
        "randb = torch.rand(3,4)\n",
        "print(randa)\n",
        "print(randb)\n",
        "print(randa==randb)"
      ],
      "metadata": {
        "colab": {
          "base_uri": "https://localhost:8080/"
        },
        "id": "A9GK-72DVwie",
        "outputId": "726208b9-0b79-479e-831b-a943264a5363"
      },
      "execution_count": 140,
      "outputs": [
        {
          "output_type": "stream",
          "name": "stdout",
          "text": [
            "tensor([[0.4701, 0.1425, 0.7120, 0.4336],\n",
            "        [0.1830, 0.6799, 0.2914, 0.8230],\n",
            "        [0.5784, 0.8527, 0.9924, 0.9150]])\n",
            "tensor([[0.4799, 0.1498, 0.1571, 0.5217],\n",
            "        [0.9751, 0.9386, 0.7523, 0.7822],\n",
            "        [0.1590, 0.1943, 0.0265, 0.4397]])\n",
            "tensor([[False, False, False, False],\n",
            "        [False, False, False, False],\n",
            "        [False, False, False, False]])\n"
          ]
        }
      ]
    },
    {
      "cell_type": "markdown",
      "source": [
        "set random_seed before each itteration to reproduce randomness-pseudorandom"
      ],
      "metadata": {
        "id": "IKbnY6l1W4lB"
      }
    },
    {
      "cell_type": "code",
      "source": [
        "RANDOM_SEED=69\n",
        "torch.manual_seed(RANDOM_SEED)\n",
        "randc = torch.rand(3,4)\n",
        "\n",
        "torch.manual_seed(RANDOM_SEED)\n",
        "randd = torch.rand(3,4)\n",
        "\n",
        "print(randc)\n",
        "print(randd)\n",
        "print(randc ==randd)"
      ],
      "metadata": {
        "colab": {
          "base_uri": "https://localhost:8080/"
        },
        "id": "htsFEM7oWUD8",
        "outputId": "6aa23015-6224-4d88-b0bb-b892171c7fd0"
      },
      "execution_count": 141,
      "outputs": [
        {
          "output_type": "stream",
          "name": "stdout",
          "text": [
            "tensor([[0.8398, 0.8042, 0.1213, 0.5309],\n",
            "        [0.6646, 0.4077, 0.0888, 0.2429],\n",
            "        [0.7053, 0.6216, 0.9188, 0.0185]])\n",
            "tensor([[0.8398, 0.8042, 0.1213, 0.5309],\n",
            "        [0.6646, 0.4077, 0.0888, 0.2429],\n",
            "        [0.7053, 0.6216, 0.9188, 0.0185]])\n",
            "tensor([[True, True, True, True],\n",
            "        [True, True, True, True],\n",
            "        [True, True, True, True]])\n"
          ]
        }
      ]
    },
    {
      "cell_type": "markdown",
      "source": [
        "## Linear Regression\n",
        "\n",
        "y= mx + b"
      ],
      "metadata": {
        "id": "vfB7zAfefqfe"
      }
    },
    {
      "cell_type": "code",
      "source": [
        "weight = 0.7\n",
        "bias = 0.3\n",
        "\n",
        "start = 0\n",
        "end = 1\n",
        "step = 0.02\n",
        "X = torch.arange(start,end,step).unsqueeze(dim=1)\n",
        "y = weight * X * bias\n",
        "X[:10],y[:10]"
      ],
      "metadata": {
        "colab": {
          "base_uri": "https://localhost:8080/"
        },
        "id": "KusU3Kbzf06W",
        "outputId": "f0564571-e42b-4e09-8751-26b9dab87939"
      },
      "execution_count": 142,
      "outputs": [
        {
          "output_type": "execute_result",
          "data": {
            "text/plain": [
              "(tensor([[0.0000],\n",
              "         [0.0200],\n",
              "         [0.0400],\n",
              "         [0.0600],\n",
              "         [0.0800],\n",
              "         [0.1000],\n",
              "         [0.1200],\n",
              "         [0.1400],\n",
              "         [0.1600],\n",
              "         [0.1800]]), tensor([[0.0000],\n",
              "         [0.0042],\n",
              "         [0.0084],\n",
              "         [0.0126],\n",
              "         [0.0168],\n",
              "         [0.0210],\n",
              "         [0.0252],\n",
              "         [0.0294],\n",
              "         [0.0336],\n",
              "         [0.0378]]))"
            ]
          },
          "metadata": {},
          "execution_count": 142
        }
      ]
    },
    {
      "cell_type": "markdown",
      "source": [
        "### Split Test and Training Data"
      ],
      "metadata": {
        "id": "PXt9OlYfgZHn"
      }
    },
    {
      "cell_type": "markdown",
      "source": [
        "Training -> Validation -> Test\n",
        "60-80 -> 10-20 -> 10-20 "
      ],
      "metadata": {
        "id": "l3KmAGS0guzY"
      }
    },
    {
      "cell_type": "code",
      "source": [
        "train_split = int(0.8 * len(X)) # 80% of data used for training set, 20% for testing \n",
        "X_train, y_train = X[:train_split], y[:train_split]\n",
        "X_test, y_test = X[train_split:], y[train_split:]\n",
        "\n",
        "len(X_train), len(y_train), len(X_test), len(y_test)"
      ],
      "metadata": {
        "colab": {
          "base_uri": "https://localhost:8080/"
        },
        "id": "SOWhlwwCgc-1",
        "outputId": "e2e81bdc-912a-41ad-fafd-3965b6f87412"
      },
      "execution_count": 143,
      "outputs": [
        {
          "output_type": "execute_result",
          "data": {
            "text/plain": [
              "(40, 40, 10, 10)"
            ]
          },
          "metadata": {},
          "execution_count": 143
        }
      ]
    },
    {
      "cell_type": "code",
      "source": [
        "def plot_predictions(train_data=X_train,train_labels=y_train,test_data=X_test,test_labels=y_test,predictions=None):\n",
        "  plt.figure(figsize=(10,7))\n",
        "  plt.scatter(train_data,train_labels,c='b',s=4,label=\"Training Data\")\n",
        "  plt.scatter(test_data,test_labels,c='g',s=4,label=\"Testing Data\")\n",
        "\n",
        "  if predictions is not None:\n",
        "    plt.scatter(test_data,predictions,c='r',s=4,label=\"Predictions\")\n",
        "\n",
        "  plt.legend(prop={'size':14})"
      ],
      "metadata": {
        "id": "XTjEBV5-iG70"
      },
      "execution_count": 144,
      "outputs": []
    },
    {
      "cell_type": "code",
      "source": [
        "plot_predictions()"
      ],
      "metadata": {
        "colab": {
          "base_uri": "https://localhost:8080/",
          "height": 428
        },
        "id": "qQUJkx0cjFSf",
        "outputId": "c4f7f610-dc18-490c-a42d-eea5c1881b24"
      },
      "execution_count": 145,
      "outputs": [
        {
          "output_type": "display_data",
          "data": {
            "text/plain": [
              "<Figure size 720x504 with 1 Axes>"
            ],
            "image/png": "[encoded data removed]"
          },
          "metadata": {
            "needs_background": "light"
          }
        }
      ]
    },
    {
      "cell_type": "markdown",
      "source": [
        "### Linear Regression Model"
      ],
      "metadata": {
        "id": "xAaId2D_jNNf"
      }
    },
    {
      "cell_type": "code",
      "source": [
        "from torch import nn\n",
        "# nn.Module is a basecalss building block\n",
        "class LinearRegressionModel(nn.Module):\n",
        "  def __init__(self):\n",
        "    super().__init__()\n",
        "    self.weights = nn.Parameter(torch.randn(1,dtype=torch.float),requires_grad=True)\n",
        "    self.bias = nn.Parameter(torch.randn(1,dtype=torch.float),requires_grad=True)\n",
        "  def forward(self, x:torch.Tensor) -> torch.Tensor:\n",
        "    return self.weights * x + self.bias"
      ],
      "metadata": {
        "id": "DBbt-gjRjTas"
      },
      "execution_count": 146,
      "outputs": []
    },
    {
      "cell_type": "code",
      "source": [
        "torch.manual_seed(699)\n",
        "model_0 = LinearRegressionModel()\n",
        "list(model_0.parameters())"
      ],
      "metadata": {
        "colab": {
          "base_uri": "https://localhost:8080/"
        },
        "id": "nWDulOcNkgdF",
        "outputId": "8697b20c-222e-4bf9-ed0d-d9d33bbf387d"
      },
      "execution_count": 147,
      "outputs": [
        {
          "output_type": "execute_result",
          "data": {
            "text/plain": [
              "[Parameter containing:\n",
              " tensor([0.5463], requires_grad=True), Parameter containing:\n",
              " tensor([0.2054], requires_grad=True)]"
            ]
          },
          "metadata": {},
          "execution_count": 147
        }
      ]
    },
    {
      "cell_type": "code",
      "source": [
        "with torch.inference_mode():\n",
        "  y_preds = model_0(X_test)\n",
        "  print(f\"Number of testing samples: {len(X_test)}\") \n",
        "print(f\"Number of predictions made: {len(y_preds)}\")\n",
        "print(f\"Predicted values:\\n{y_preds}\")"
      ],
      "metadata": {
        "colab": {
          "base_uri": "https://localhost:8080/"
        },
        "id": "o6FLPWI-lHrm",
        "outputId": "66da40db-561e-4b27-c393-9fd5ffe8608e"
      },
      "execution_count": 148,
      "outputs": [
        {
          "output_type": "stream",
          "name": "stdout",
          "text": [
            "Number of testing samples: 10\n",
            "Number of predictions made: 10\n",
            "Predicted values:\n",
            "tensor([[0.6425],\n",
            "        [0.6534],\n",
            "        [0.6643],\n",
            "        [0.6753],\n",
            "        [0.6862],\n",
            "        [0.6971],\n",
            "        [0.7080],\n",
            "        [0.7190],\n",
            "        [0.7299],\n",
            "        [0.7408]])\n"
          ]
        }
      ]
    },
    {
      "cell_type": "code",
      "source": [
        "plot_predictions(predictions=y_preds)"
      ],
      "metadata": {
        "colab": {
          "base_uri": "https://localhost:8080/",
          "height": 428
        },
        "id": "D47VWuCbloZb",
        "outputId": "eb89b322-8df1-41f1-c014-bec156d19e51"
      },
      "execution_count": 149,
      "outputs": [
        {
          "output_type": "display_data",
          "data": {
            "text/plain": [
              "<Figure size 720x504 with 1 Axes>"
            ],
            "image/png": "[encoded data removed]"
          },
          "metadata": {
            "needs_background": "light"
          }
        }
      ]
    },
    {
      "cell_type": "markdown",
      "source": [
        "Predictions are way off because we have not implemented a loss function and optimizer to get our predicted data to be more alike our test data"
      ],
      "metadata": {
        "id": "KMP7lXzenr6C"
      }
    },
    {
      "cell_type": "markdown",
      "source": [
        "**Loss Function:** a function to measure how wrong your model's predictios are to the ideal outputs, lower is better,\n",
        "\n",
        "**Optimizer Function:** Tells your model how to update its internal parameters to best lower the loss."
      ],
      "metadata": {
        "id": "zVrqgIRpotLM"
      }
    },
    {
      "cell_type": "markdown",
      "source": [
        "PyTorch training loop\n",
        "For the training loop, we'll build the following steps:\n",
        "\n",
        "Number\tStep name\tWhat does it do?\tCode example\n",
        "___\n",
        "1\tForward pass The model goes through all of the training data once, performing its forward() function calculations.\tmodel(x_train)\n",
        "2\tCalculate the loss\tThe model's outputs (predictions) are compared to the ground truth and evaluated to see how wrong they are.\tloss = loss_fn(y_pred, y_train)\n",
        "3\tZero gradients\tThe optimizers gradients are set to zero (they are accumulated by default) so they can be recalculated for the specific training step.\toptimizer.zero_grad()\n",
        "4\tPerform backpropagation on the loss\tComputes the gradient of the loss with respect for every model parameter to be updated (each parameter with requires_grad=True). This is known as backpropagation, hence \"backwards\".\tloss.backward()\n",
        "5\tUpdate the optimizer (gradient descent)\tUpdate the parameters with requires_grad=True with respect to the loss gradients in order to improve them.\toptimizer.step()"
      ],
      "metadata": {
        "id": "icdl9dTmoQC7"
      }
    },
    {
      "cell_type": "code",
      "source": [
        "loss_fn = nn.L1Loss()\n",
        "optimizer = torch.optim.SGD(params=model_0.parameters(),lr=0.1)"
      ],
      "metadata": {
        "id": "z04Xhg5oncfe"
      },
      "execution_count": 150,
      "outputs": []
    },
    {
      "cell_type": "code",
      "source": [
        "device = \"cuda\" if torch.cuda.is_available() else \"cpu\"\n",
        "print(device)\n",
        "next(model_0.parameters()).device\n",
        "# Set model to GPU if it's availalble, otherwise it'll default to CPU\n",
        "model_0.to(device) # the device variable was set above to be \"cuda\" if available or \"cpu\" if not\n",
        "next(model_0.parameters()).device"
      ],
      "metadata": {
        "colab": {
          "base_uri": "https://localhost:8080/"
        },
        "id": "nbObGkFe4Ddp",
        "outputId": "5c0a9aca-a47b-4247-b23a-7e0e2d609b09"
      },
      "execution_count": 151,
      "outputs": [
        {
          "output_type": "stream",
          "name": "stdout",
          "text": [
            "cuda\n"
          ]
        },
        {
          "output_type": "execute_result",
          "data": {
            "text/plain": [
              "device(type='cuda', index=0)"
            ]
          },
          "metadata": {},
          "execution_count": 151
        }
      ]
    },
    {
      "cell_type": "code",
      "source": [
        "torch.manual_seed(43)\n",
        "epochs = 1169\n",
        "X_train = X_train.to(device)\n",
        "X_test = X_test.to(device)\n",
        "y_train = y_train.to(device)\n",
        "y_test = y_test.to(device)\n",
        "\n",
        "#track changes\n",
        "train_loss_values=[]\n",
        "test_loss_values = []\n",
        "epoch_count = []\n",
        "test_preds = []\n",
        "\n",
        "for epoch in range(epochs):\n",
        "  model_0.train()\n",
        "  y_pred = model_0(X_train)\n",
        "  loss = loss_fn(y_pred,y_train)\n",
        "  optimizer.zero_grad()\n",
        "  loss.backward()\n",
        "  optimizer.step()\n",
        "  model_0.eval()\n",
        "\n",
        "  with torch.inference_mode():\n",
        "    test_pred = model_0(X_test)\n",
        "    test_loss = loss_fn(test_pred,y_test.type(torch.float))\n",
        "    test_preds.append(test_pred)\n",
        "\n",
        "    if epoch % 10 == 0:\n",
        "      epoch_count.append(epoch)\n",
        "      train_loss_values.append(loss.detach().cpu().numpy())\n",
        "      test_loss_values.append(test_loss.detach().cpu().numpy())\n",
        "      print(f\"Epoch: {epoch}\")\n",
        "      print(f\"MAE Train Loss: {loss} | MAE Test Loss: {test_loss} \")"
      ],
      "metadata": {
        "colab": {
          "base_uri": "https://localhost:8080/"
        },
        "id": "ONj89PXvurAV",
        "outputId": "aee7325b-c547-4186-841d-00f09245e039"
      },
      "execution_count": 152,
      "outputs": [
        {
          "output_type": "stream",
          "name": "stdout",
          "text": [
            "Epoch: 0\n",
            "MAE Train Loss: 0.3365750014781952 | MAE Test Loss: 0.37003836035728455 \n",
            "Epoch: 10\n",
            "MAE Train Loss: 0.02034934051334858 | MAE Test Loss: 0.03315434604883194 \n",
            "Epoch: 20\n",
            "MAE Train Loss: 0.07091598957777023 | MAE Test Loss: 0.0246706735342741 \n",
            "Epoch: 30\n",
            "MAE Train Loss: 0.07091598957777023 | MAE Test Loss: 0.0246706735342741 \n",
            "Epoch: 40\n",
            "MAE Train Loss: 0.07091598957777023 | MAE Test Loss: 0.0246706735342741 \n",
            "Epoch: 50\n",
            "MAE Train Loss: 0.07091598957777023 | MAE Test Loss: 0.0246706735342741 \n",
            "Epoch: 60\n",
            "MAE Train Loss: 0.07091598957777023 | MAE Test Loss: 0.0246706735342741 \n",
            "Epoch: 70\n",
            "MAE Train Loss: 0.07091598957777023 | MAE Test Loss: 0.0246706735342741 \n",
            "Epoch: 80\n",
            "MAE Train Loss: 0.07091598957777023 | MAE Test Loss: 0.0246706735342741 \n",
            "Epoch: 90\n",
            "MAE Train Loss: 0.07091598957777023 | MAE Test Loss: 0.0246706735342741 \n",
            "Epoch: 100\n",
            "MAE Train Loss: 0.07091598957777023 | MAE Test Loss: 0.0246706735342741 \n",
            "Epoch: 110\n",
            "MAE Train Loss: 0.07091598957777023 | MAE Test Loss: 0.0246706735342741 \n",
            "Epoch: 120\n",
            "MAE Train Loss: 0.07091598957777023 | MAE Test Loss: 0.0246706735342741 \n",
            "Epoch: 130\n",
            "MAE Train Loss: 0.07091598957777023 | MAE Test Loss: 0.0246706735342741 \n",
            "Epoch: 140\n",
            "MAE Train Loss: 0.07091598957777023 | MAE Test Loss: 0.0246706735342741 \n",
            "Epoch: 150\n",
            "MAE Train Loss: 0.07091598957777023 | MAE Test Loss: 0.0246706735342741 \n",
            "Epoch: 160\n",
            "MAE Train Loss: 0.07091598957777023 | MAE Test Loss: 0.0246706735342741 \n",
            "Epoch: 170\n",
            "MAE Train Loss: 0.07091598957777023 | MAE Test Loss: 0.0246706735342741 \n",
            "Epoch: 180\n",
            "MAE Train Loss: 0.07091598957777023 | MAE Test Loss: 0.0246706735342741 \n",
            "Epoch: 190\n",
            "MAE Train Loss: 0.07091598957777023 | MAE Test Loss: 0.0246706735342741 \n",
            "Epoch: 200\n",
            "MAE Train Loss: 0.07091598957777023 | MAE Test Loss: 0.0246706735342741 \n",
            "Epoch: 210\n",
            "MAE Train Loss: 0.07091598957777023 | MAE Test Loss: 0.0246706735342741 \n",
            "Epoch: 220\n",
            "MAE Train Loss: 0.07091598957777023 | MAE Test Loss: 0.0246706735342741 \n",
            "Epoch: 230\n",
            "MAE Train Loss: 0.07091598957777023 | MAE Test Loss: 0.0246706735342741 \n",
            "Epoch: 240\n",
            "MAE Train Loss: 0.07091598957777023 | MAE Test Loss: 0.0246706735342741 \n",
            "Epoch: 250\n",
            "MAE Train Loss: 0.07091598957777023 | MAE Test Loss: 0.0246706735342741 \n",
            "Epoch: 260\n",
            "MAE Train Loss: 0.07091598957777023 | MAE Test Loss: 0.0246706735342741 \n",
            "Epoch: 270\n",
            "MAE Train Loss: 0.07091598957777023 | MAE Test Loss: 0.0246706735342741 \n",
            "Epoch: 280\n",
            "MAE Train Loss: 0.07091598957777023 | MAE Test Loss: 0.0246706735342741 \n",
            "Epoch: 290\n",
            "MAE Train Loss: 0.07091598957777023 | MAE Test Loss: 0.0246706735342741 \n",
            "Epoch: 300\n",
            "MAE Train Loss: 0.07091598957777023 | MAE Test Loss: 0.0246706735342741 \n",
            "Epoch: 310\n",
            "MAE Train Loss: 0.07091598957777023 | MAE Test Loss: 0.0246706735342741 \n",
            "Epoch: 320\n",
            "MAE Train Loss: 0.07091598957777023 | MAE Test Loss: 0.0246706735342741 \n",
            "Epoch: 330\n",
            "MAE Train Loss: 0.07091598957777023 | MAE Test Loss: 0.0246706735342741 \n",
            "Epoch: 340\n",
            "MAE Train Loss: 0.07091598957777023 | MAE Test Loss: 0.0246706735342741 \n",
            "Epoch: 350\n",
            "MAE Train Loss: 0.07091598957777023 | MAE Test Loss: 0.0246706735342741 \n",
            "Epoch: 360\n",
            "MAE Train Loss: 0.07091598957777023 | MAE Test Loss: 0.0246706735342741 \n",
            "Epoch: 370\n",
            "MAE Train Loss: 0.07091598957777023 | MAE Test Loss: 0.0246706735342741 \n",
            "Epoch: 380\n",
            "MAE Train Loss: 0.07091598957777023 | MAE Test Loss: 0.0246706735342741 \n",
            "Epoch: 390\n",
            "MAE Train Loss: 0.07091598957777023 | MAE Test Loss: 0.0246706735342741 \n",
            "Epoch: 400\n",
            "MAE Train Loss: 0.07091598957777023 | MAE Test Loss: 0.0246706735342741 \n",
            "Epoch: 410\n",
            "MAE Train Loss: 0.07091598957777023 | MAE Test Loss: 0.0246706735342741 \n",
            "Epoch: 420\n",
            "MAE Train Loss: 0.07091598957777023 | MAE Test Loss: 0.0246706735342741 \n",
            "Epoch: 430\n",
            "MAE Train Loss: 0.07091598957777023 | MAE Test Loss: 0.0246706735342741 \n",
            "Epoch: 440\n",
            "MAE Train Loss: 0.07091598957777023 | MAE Test Loss: 0.0246706735342741 \n",
            "Epoch: 450\n",
            "MAE Train Loss: 0.07091598957777023 | MAE Test Loss: 0.0246706735342741 \n",
            "Epoch: 460\n",
            "MAE Train Loss: 0.07091598957777023 | MAE Test Loss: 0.0246706735342741 \n",
            "Epoch: 470\n",
            "MAE Train Loss: 0.07091598957777023 | MAE Test Loss: 0.0246706735342741 \n",
            "Epoch: 480\n",
            "MAE Train Loss: 0.07091598957777023 | MAE Test Loss: 0.0246706735342741 \n",
            "Epoch: 490\n",
            "MAE Train Loss: 0.07091598957777023 | MAE Test Loss: 0.0246706735342741 \n",
            "Epoch: 500\n",
            "MAE Train Loss: 0.07091598957777023 | MAE Test Loss: 0.0246706735342741 \n",
            "Epoch: 510\n",
            "MAE Train Loss: 0.07091598957777023 | MAE Test Loss: 0.0246706735342741 \n",
            "Epoch: 520\n",
            "MAE Train Loss: 0.07091598957777023 | MAE Test Loss: 0.0246706735342741 \n",
            "Epoch: 530\n",
            "MAE Train Loss: 0.07091598957777023 | MAE Test Loss: 0.0246706735342741 \n",
            "Epoch: 540\n",
            "MAE Train Loss: 0.07091598957777023 | MAE Test Loss: 0.0246706735342741 \n",
            "Epoch: 550\n",
            "MAE Train Loss: 0.07091598957777023 | MAE Test Loss: 0.0246706735342741 \n",
            "Epoch: 560\n",
            "MAE Train Loss: 0.07091598957777023 | MAE Test Loss: 0.0246706735342741 \n",
            "Epoch: 570\n",
            "MAE Train Loss: 0.07091598957777023 | MAE Test Loss: 0.0246706735342741 \n",
            "Epoch: 580\n",
            "MAE Train Loss: 0.07091598957777023 | MAE Test Loss: 0.0246706735342741 \n",
            "Epoch: 590\n",
            "MAE Train Loss: 0.07091598957777023 | MAE Test Loss: 0.0246706735342741 \n",
            "Epoch: 600\n",
            "MAE Train Loss: 0.07091598957777023 | MAE Test Loss: 0.0246706735342741 \n",
            "Epoch: 610\n",
            "MAE Train Loss: 0.07091598957777023 | MAE Test Loss: 0.0246706735342741 \n",
            "Epoch: 620\n",
            "MAE Train Loss: 0.07091598957777023 | MAE Test Loss: 0.0246706735342741 \n",
            "Epoch: 630\n",
            "MAE Train Loss: 0.07091598957777023 | MAE Test Loss: 0.0246706735342741 \n",
            "Epoch: 640\n",
            "MAE Train Loss: 0.07091598957777023 | MAE Test Loss: 0.0246706735342741 \n",
            "Epoch: 650\n",
            "MAE Train Loss: 0.07091598957777023 | MAE Test Loss: 0.0246706735342741 \n",
            "Epoch: 660\n",
            "MAE Train Loss: 0.07091598957777023 | MAE Test Loss: 0.0246706735342741 \n",
            "Epoch: 670\n",
            "MAE Train Loss: 0.07091598957777023 | MAE Test Loss: 0.0246706735342741 \n",
            "Epoch: 680\n",
            "MAE Train Loss: 0.07091598957777023 | MAE Test Loss: 0.0246706735342741 \n",
            "Epoch: 690\n",
            "MAE Train Loss: 0.07091598957777023 | MAE Test Loss: 0.0246706735342741 \n",
            "Epoch: 700\n",
            "MAE Train Loss: 0.07091598957777023 | MAE Test Loss: 0.0246706735342741 \n",
            "Epoch: 710\n",
            "MAE Train Loss: 0.07091598957777023 | MAE Test Loss: 0.0246706735342741 \n",
            "Epoch: 720\n",
            "MAE Train Loss: 0.07091598957777023 | MAE Test Loss: 0.0246706735342741 \n",
            "Epoch: 730\n",
            "MAE Train Loss: 0.07091598957777023 | MAE Test Loss: 0.0246706735342741 \n",
            "Epoch: 740\n",
            "MAE Train Loss: 0.07091598957777023 | MAE Test Loss: 0.0246706735342741 \n",
            "Epoch: 750\n",
            "MAE Train Loss: 0.07091598957777023 | MAE Test Loss: 0.0246706735342741 \n",
            "Epoch: 760\n",
            "MAE Train Loss: 0.07091598957777023 | MAE Test Loss: 0.0246706735342741 \n",
            "Epoch: 770\n",
            "MAE Train Loss: 0.07091598957777023 | MAE Test Loss: 0.0246706735342741 \n",
            "Epoch: 780\n",
            "MAE Train Loss: 0.07091598957777023 | MAE Test Loss: 0.0246706735342741 \n",
            "Epoch: 790\n",
            "MAE Train Loss: 0.07091598957777023 | MAE Test Loss: 0.0246706735342741 \n",
            "Epoch: 800\n",
            "MAE Train Loss: 0.07091598957777023 | MAE Test Loss: 0.0246706735342741 \n",
            "Epoch: 810\n",
            "MAE Train Loss: 0.07091598957777023 | MAE Test Loss: 0.0246706735342741 \n",
            "Epoch: 820\n",
            "MAE Train Loss: 0.07091598957777023 | MAE Test Loss: 0.0246706735342741 \n",
            "Epoch: 830\n",
            "MAE Train Loss: 0.07091598957777023 | MAE Test Loss: 0.0246706735342741 \n",
            "Epoch: 840\n",
            "MAE Train Loss: 0.07091598957777023 | MAE Test Loss: 0.0246706735342741 \n",
            "Epoch: 850\n",
            "MAE Train Loss: 0.07091598957777023 | MAE Test Loss: 0.0246706735342741 \n",
            "Epoch: 860\n",
            "MAE Train Loss: 0.07091598957777023 | MAE Test Loss: 0.0246706735342741 \n",
            "Epoch: 870\n",
            "MAE Train Loss: 0.07091598957777023 | MAE Test Loss: 0.0246706735342741 \n",
            "Epoch: 880\n",
            "MAE Train Loss: 0.07091598957777023 | MAE Test Loss: 0.0246706735342741 \n",
            "Epoch: 890\n",
            "MAE Train Loss: 0.07091598957777023 | MAE Test Loss: 0.0246706735342741 \n",
            "Epoch: 900\n",
            "MAE Train Loss: 0.07091598957777023 | MAE Test Loss: 0.0246706735342741 \n",
            "Epoch: 910\n",
            "MAE Train Loss: 0.07091598957777023 | MAE Test Loss: 0.0246706735342741 \n",
            "Epoch: 920\n",
            "MAE Train Loss: 0.07091598957777023 | MAE Test Loss: 0.0246706735342741 \n",
            "Epoch: 930\n",
            "MAE Train Loss: 0.07091598957777023 | MAE Test Loss: 0.0246706735342741 \n",
            "Epoch: 940\n",
            "MAE Train Loss: 0.07091598957777023 | MAE Test Loss: 0.0246706735342741 \n",
            "Epoch: 950\n",
            "MAE Train Loss: 0.07091598957777023 | MAE Test Loss: 0.0246706735342741 \n",
            "Epoch: 960\n",
            "MAE Train Loss: 0.07091598957777023 | MAE Test Loss: 0.0246706735342741 \n",
            "Epoch: 970\n",
            "MAE Train Loss: 0.07091598957777023 | MAE Test Loss: 0.0246706735342741 \n",
            "Epoch: 980\n",
            "MAE Train Loss: 0.07091598957777023 | MAE Test Loss: 0.0246706735342741 \n",
            "Epoch: 990\n",
            "MAE Train Loss: 0.07091598957777023 | MAE Test Loss: 0.0246706735342741 \n",
            "Epoch: 1000\n",
            "MAE Train Loss: 0.07091598957777023 | MAE Test Loss: 0.0246706735342741 \n",
            "Epoch: 1010\n",
            "MAE Train Loss: 0.07091598957777023 | MAE Test Loss: 0.0246706735342741 \n",
            "Epoch: 1020\n",
            "MAE Train Loss: 0.07091598957777023 | MAE Test Loss: 0.0246706735342741 \n",
            "Epoch: 1030\n",
            "MAE Train Loss: 0.07091598957777023 | MAE Test Loss: 0.0246706735342741 \n",
            "Epoch: 1040\n",
            "MAE Train Loss: 0.07091598957777023 | MAE Test Loss: 0.0246706735342741 \n",
            "Epoch: 1050\n",
            "MAE Train Loss: 0.07091598957777023 | MAE Test Loss: 0.0246706735342741 \n",
            "Epoch: 1060\n",
            "MAE Train Loss: 0.07091598957777023 | MAE Test Loss: 0.0246706735342741 \n",
            "Epoch: 1070\n",
            "MAE Train Loss: 0.07091598957777023 | MAE Test Loss: 0.0246706735342741 \n",
            "Epoch: 1080\n",
            "MAE Train Loss: 0.07091598957777023 | MAE Test Loss: 0.0246706735342741 \n",
            "Epoch: 1090\n",
            "MAE Train Loss: 0.07091598957777023 | MAE Test Loss: 0.0246706735342741 \n",
            "Epoch: 1100\n",
            "MAE Train Loss: 0.07091598957777023 | MAE Test Loss: 0.0246706735342741 \n",
            "Epoch: 1110\n",
            "MAE Train Loss: 0.07091598957777023 | MAE Test Loss: 0.0246706735342741 \n",
            "Epoch: 1120\n",
            "MAE Train Loss: 0.07091598957777023 | MAE Test Loss: 0.0246706735342741 \n",
            "Epoch: 1130\n",
            "MAE Train Loss: 0.07091598957777023 | MAE Test Loss: 0.0246706735342741 \n",
            "Epoch: 1140\n",
            "MAE Train Loss: 0.07091598957777023 | MAE Test Loss: 0.0246706735342741 \n",
            "Epoch: 1150\n",
            "MAE Train Loss: 0.07091598957777023 | MAE Test Loss: 0.0246706735342741 \n",
            "Epoch: 1160\n",
            "MAE Train Loss: 0.07091598957777023 | MAE Test Loss: 0.0246706735342741 \n"
          ]
        }
      ]
    },
    {
      "cell_type": "code",
      "source": [
        "plt.plot(epoch_count, train_loss_values, label=\"Train loss\")\n",
        "plt.plot(epoch_count, test_loss_values, label=\"Test loss\")\n",
        "plt.title(\"Training and test loss curves\")\n",
        "plt.ylabel(\"Loss\")\n",
        "plt.xlabel(\"Epochs\")\n",
        "plt.legend();"
      ],
      "metadata": {
        "colab": {
          "base_uri": "https://localhost:8080/",
          "height": 295
        },
        "id": "c88Oia5Oy5v1",
        "outputId": "31da5c23-f7d0-4054-c915-117a2b2086ac"
      },
      "execution_count": 153,
      "outputs": [
        {
          "output_type": "display_data",
          "data": {
            "text/plain": [
              "<Figure size 432x288 with 1 Axes>"
            ],
            "image/png": "[encoded data removed]"
          },
          "metadata": {
            "needs_background": "light"
          }
        }
      ]
    },
    {
      "cell_type": "code",
      "source": [
        "model_0.eval()\n",
        "with torch.inference_mode():\n",
        "  y_preds = model_0(X_test)\n",
        "\n",
        "  plot_predictions(predictions=y_preds.cpu())"
      ],
      "metadata": {
        "colab": {
          "base_uri": "https://localhost:8080/",
          "height": 428
        },
        "id": "Nh0_PC0V0ibO",
        "outputId": "bede2cf4-c08c-42c3-f119-4f35e465f7c6"
      },
      "execution_count": 154,
      "outputs": [
        {
          "output_type": "display_data",
          "data": {
            "text/plain": [
              "<Figure size 720x504 with 1 Axes>"
            ],
            "image/png": "[encoded data removed]"
          },
          "metadata": {
            "needs_background": "light"
          }
        }
      ]
    },
    {
      "cell_type": "code",
      "source": [
        "from pathlib import Path\n",
        "\n",
        "# 1. Create models directory \n",
        "MODEL_PATH = Path(\"models\")\n",
        "MODEL_PATH.mkdir(parents=True, exist_ok=True)\n",
        "\n",
        "# 2. Create model save path \n",
        "MODEL_NAME = \"01_pytorch_workflow_model_0.pth\"\n",
        "MODEL_SAVE_PATH = MODEL_PATH / MODEL_NAME\n",
        "\n",
        "# 3. Save the model state dict \n",
        "print(f\"Saving model to: {MODEL_SAVE_PATH}\")\n",
        "torch.save(obj=model_0.state_dict(), # only saving the state_dict() only saves the models learned parameters\n",
        "           f=MODEL_SAVE_PATH) "
      ],
      "metadata": {
        "colab": {
          "base_uri": "https://localhost:8080/"
        },
        "id": "L2Igj9kx15Cy",
        "outputId": "7b16bcff-f94c-4780-81f2-e3f512c8af48"
      },
      "execution_count": 155,
      "outputs": [
        {
          "output_type": "stream",
          "name": "stdout",
          "text": [
            "Saving model to: models/01_pytorch_workflow_model_0.pth\n"
          ]
        }
      ]
    },
    {
      "cell_type": "code",
      "source": [
        "# Instantiate a new instance of our model (this will be instantiated with random weights)\n",
        "loaded_model_0 = LinearRegressionModel()\n",
        "\n",
        "# Load the state_dict of our saved model (this will update the new instance of our model with trained weights)\n",
        "loaded_model_0.load_state_dict(torch.load(f=MODEL_SAVE_PATH))"
      ],
      "metadata": {
        "colab": {
          "base_uri": "https://localhost:8080/"
        },
        "id": "Een4w7NP2JC4",
        "outputId": "fc26a02b-bfba-4ba8-b180-5fdea4f859f4"
      },
      "execution_count": 156,
      "outputs": [
        {
          "output_type": "execute_result",
          "data": {
            "text/plain": [
              "<All keys matched successfully>"
            ]
          },
          "metadata": {},
          "execution_count": 156
        }
      ]
    },
    {
      "cell_type": "code",
      "source": [
        "loaded_model_0.eval()\n",
        "\n",
        "# 2. Use the inference mode context manager to make predictions\n",
        "with torch.inference_mode():\n",
        "    loaded_model_preds = loaded_model_0(X_test.cpu())"
      ],
      "metadata": {
        "id": "CzlnJIlu2T7U"
      },
      "execution_count": 160,
      "outputs": []
    },
    {
      "cell_type": "code",
      "source": [
        "# Compare previous model predictions with loaded model predictions (these should be the same)\n",
        "y_preds.cpu() == loaded_model_preds\n"
      ],
      "metadata": {
        "colab": {
          "base_uri": "https://localhost:8080/"
        },
        "id": "sqVpIHKp2Yuc",
        "outputId": "2b8d1e5b-c21a-4bf9-a398-bebbbdd799ae"
      },
      "execution_count": 162,
      "outputs": [
        {
          "output_type": "execute_result",
          "data": {
            "text/plain": [
              "tensor([[True],\n",
              "        [True],\n",
              "        [True],\n",
              "        [True],\n",
              "        [True],\n",
              "        [True],\n",
              "        [True],\n",
              "        [True],\n",
              "        [True],\n",
              "        [True]])"
            ]
          },
          "metadata": {},
          "execution_count": 162
        }
      ]
    }
  ]
}