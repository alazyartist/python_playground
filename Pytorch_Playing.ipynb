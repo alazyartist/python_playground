{
  "nbformat": 4,
  "nbformat_minor": 0,
  "metadata": {
    "colab": {
      "provenance": [],
      "collapsed_sections": [
        "-rF0fK0tnc36",
        "nMr-g-B8syS2"
      ],
      "authorship_tag": "ABX9TyMjAhWDcJJ4dFEevt67ibri",
      "include_colab_link": true
    },
    "kernelspec": {
      "name": "python3",
      "display_name": "Python 3"
    },
    "language_info": {
      "name": "python"
    }
  },
  "cells": [
    {
      "cell_type": "markdown",
      "metadata": {
        "id": "view-in-github",
        "colab_type": "text"
      },
      "source": [
        "<a href=\"https://colab.research.google.com/github/alazyartist/python_playground/blob/master/Pytorch_Playing.ipynb\" target=\"_parent\"><img src=\"https://colab.research.google.com/assets/colab-badge.svg\" alt=\"Open In Colab\"/></a>"
      ]
    },
    {
      "cell_type": "code",
      "execution_count": 2,
      "metadata": {
        "colab": {
          "base_uri": "https://localhost:8080/"
        },
        "id": "QrsSdN71mqEb",
        "outputId": "ecaad8b6-edce-4d7d-e703-9a8fc41066a4"
      },
      "outputs": [
        {
          "output_type": "stream",
          "name": "stdout",
          "text": [
            "1.13.1+cu116\n"
          ]
        }
      ],
      "source": [
        "import torch\n",
        "import pandas as pd\n",
        "import numpy as np\n",
        "import matplotlib.pyplot as plt\n",
        "print(torch.__version__)"
      ]
    },
    {
      "cell_type": "markdown",
      "source": [
        "### making scalars and vectors"
      ],
      "metadata": {
        "id": "-rF0fK0tnc36"
      }
    },
    {
      "cell_type": "code",
      "source": [
        "scalar = torch.tensor([4])\n",
        "scalar.ndim"
      ],
      "metadata": {
        "colab": {
          "base_uri": "https://localhost:8080/"
        },
        "id": "BvAwGGDhnj-4",
        "outputId": "d9262597-ea54-45e8-d772-e872d471f881"
      },
      "execution_count": 12,
      "outputs": [
        {
          "output_type": "execute_result",
          "data": {
            "text/plain": [
              "1"
            ]
          },
          "metadata": {},
          "execution_count": 12
        }
      ]
    },
    {
      "cell_type": "code",
      "source": [
        "scalar.shape"
      ],
      "metadata": {
        "colab": {
          "base_uri": "https://localhost:8080/"
        },
        "id": "065REGd3oFmP",
        "outputId": "a63f2302-7862-438b-e39c-d1b8cbcf6f96"
      },
      "execution_count": 13,
      "outputs": [
        {
          "output_type": "execute_result",
          "data": {
            "text/plain": [
              "torch.Size([1])"
            ]
          },
          "metadata": {},
          "execution_count": 13
        }
      ]
    },
    {
      "cell_type": "code",
      "source": [
        "vector1 = torch.tensor([4,2])\n",
        "vector1.shape"
      ],
      "metadata": {
        "colab": {
          "base_uri": "https://localhost:8080/"
        },
        "id": "BRTngtXboay6",
        "outputId": "2add8458-2c27-443d-f74d-08a61e403fec"
      },
      "execution_count": 16,
      "outputs": [
        {
          "output_type": "execute_result",
          "data": {
            "text/plain": [
              "torch.Size([2])"
            ]
          },
          "metadata": {},
          "execution_count": 16
        }
      ]
    },
    {
      "cell_type": "code",
      "source": [
        "vector = torch.tensor([[4,3,2],[2,3,4]])\n",
        "vector.ndim"
      ],
      "metadata": {
        "colab": {
          "base_uri": "https://localhost:8080/"
        },
        "id": "wgPvErccnzNg",
        "outputId": "4265a417-33cf-4f1d-9aa3-bdae9a7b4dbb"
      },
      "execution_count": 22,
      "outputs": [
        {
          "output_type": "execute_result",
          "data": {
            "text/plain": [
              "2"
            ]
          },
          "metadata": {},
          "execution_count": 22
        }
      ]
    },
    {
      "cell_type": "code",
      "source": [
        "vector.shape"
      ],
      "metadata": {
        "colab": {
          "base_uri": "https://localhost:8080/"
        },
        "id": "7642EXMBoDN_",
        "outputId": "8a2de571-1364-4a11-8008-9796763a2b3e"
      },
      "execution_count": 23,
      "outputs": [
        {
          "output_type": "execute_result",
          "data": {
            "text/plain": [
              "torch.Size([2, 3])"
            ]
          },
          "metadata": {},
          "execution_count": 23
        }
      ]
    },
    {
      "cell_type": "code",
      "source": [
        "randomTensor = torch.rand(3,224,224)\n",
        "randomTensor.shape, randomTensor.ndim"
      ],
      "metadata": {
        "colab": {
          "base_uri": "https://localhost:8080/"
        },
        "id": "mLSXyzCDowtf",
        "outputId": "71811cea-6967-4467-fc40-d0eb38e4cc9c"
      },
      "execution_count": 41,
      "outputs": [
        {
          "output_type": "execute_result",
          "data": {
            "text/plain": [
              "(torch.Size([3, 224, 224]), 3)"
            ]
          },
          "metadata": {},
          "execution_count": 41
        }
      ]
    },
    {
      "cell_type": "code",
      "source": [
        "zeroes = torch.zeros(4,2)\n",
        "ones = torch.ones(4,2)\n",
        "zeroes,ones"
      ],
      "metadata": {
        "colab": {
          "base_uri": "https://localhost:8080/"
        },
        "id": "q1rTUI3OqPYV",
        "outputId": "cf44a63d-0836-4298-b660-d21965868cfc"
      },
      "execution_count": 46,
      "outputs": [
        {
          "output_type": "execute_result",
          "data": {
            "text/plain": [
              "(tensor([[0., 0.],\n",
              "         [0., 0.],\n",
              "         [0., 0.],\n",
              "         [0., 0.]]), tensor([[1., 1.],\n",
              "         [1., 1.],\n",
              "         [1., 1.],\n",
              "         [1., 1.]]))"
            ]
          },
          "metadata": {},
          "execution_count": 46
        }
      ]
    },
    {
      "cell_type": "code",
      "source": [
        "rng = torch.arange(1,11)\n",
        "rng"
      ],
      "metadata": {
        "colab": {
          "base_uri": "https://localhost:8080/"
        },
        "id": "vmGm3AV3qkzR",
        "outputId": "12e1bcfd-9231-4155-850e-33c09ef3c881"
      },
      "execution_count": 53,
      "outputs": [
        {
          "output_type": "execute_result",
          "data": {
            "text/plain": [
              "tensor([ 1,  2,  3,  4,  5,  6,  7,  8,  9, 10])"
            ]
          },
          "metadata": {},
          "execution_count": 53
        }
      ]
    },
    {
      "cell_type": "markdown",
      "source": [
        "### DataTypes"
      ],
      "metadata": {
        "id": "nMr-g-B8syS2"
      }
    },
    {
      "cell_type": "code",
      "source": [
        "fl32 = torch.tensor([2.1,2.2,2.4])\n",
        "fl32.dtype"
      ],
      "metadata": {
        "colab": {
          "base_uri": "https://localhost:8080/"
        },
        "id": "Ls3_fva4rB6p",
        "outputId": "ac6dbf8f-fa60-43c8-f389-7dbaadbe4f32"
      },
      "execution_count": 56,
      "outputs": [
        {
          "output_type": "execute_result",
          "data": {
            "text/plain": [
              "torch.float32"
            ]
          },
          "metadata": {},
          "execution_count": 56
        }
      ]
    },
    {
      "cell_type": "code",
      "source": [
        "fl16= torch.tensor([2.1,2.2,2.4], dtype=torch.float16)\n",
        "fl16.dtype"
      ],
      "metadata": {
        "colab": {
          "base_uri": "https://localhost:8080/"
        },
        "id": "HvMgEYvZrmJi",
        "outputId": "a1dd2820-34f8-4ab0-f8be-b55d907b5c24"
      },
      "execution_count": 58,
      "outputs": [
        {
          "output_type": "execute_result",
          "data": {
            "text/plain": [
              "torch.float16"
            ]
          },
          "metadata": {},
          "execution_count": 58
        }
      ]
    },
    {
      "cell_type": "code",
      "source": [
        "fl16 =fl16.type(torch.float32)\n",
        "fl16.dtype"
      ],
      "metadata": {
        "colab": {
          "base_uri": "https://localhost:8080/"
        },
        "id": "dHTUu6nlsPyd",
        "outputId": "e93253e7-f6a4-442e-aedd-3f425a4c4ace"
      },
      "execution_count": 61,
      "outputs": [
        {
          "output_type": "execute_result",
          "data": {
            "text/plain": [
              "torch.float32"
            ]
          },
          "metadata": {},
          "execution_count": 61
        }
      ]
    },
    {
      "cell_type": "code",
      "source": [
        "mult = torch.matmul(fl16,fl32)\n",
        "mult"
      ],
      "metadata": {
        "colab": {
          "base_uri": "https://localhost:8080/"
        },
        "id": "QcbbdHzMr4L4",
        "outputId": "74d9e115-3315-4093-bbed-d058243c0ad7"
      },
      "execution_count": 62,
      "outputs": [
        {
          "output_type": "execute_result",
          "data": {
            "text/plain": [
              "tensor(15.0084)"
            ]
          },
          "metadata": {},
          "execution_count": 62
        }
      ]
    },
    {
      "cell_type": "markdown",
      "source": [
        "### Maths"
      ],
      "metadata": {
        "id": "42OBP0pJs8e_"
      }
    },
    {
      "cell_type": "code",
      "source": [
        "ten1= torch.tensor([4,3,2])\n",
        "ten2= torch.tensor([1,1,1])\n",
        "ten1 + ten2"
      ],
      "metadata": {
        "colab": {
          "base_uri": "https://localhost:8080/"
        },
        "id": "yAHqGU0OtAx2",
        "outputId": "9221a41b-4857-4a23-df8b-3b2021eaa011"
      },
      "execution_count": 70,
      "outputs": [
        {
          "output_type": "execute_result",
          "data": {
            "text/plain": [
              "tensor([5, 4, 3])"
            ]
          },
          "metadata": {},
          "execution_count": 70
        }
      ]
    },
    {
      "cell_type": "code",
      "source": [
        "ten1 @ ten2"
      ],
      "metadata": {
        "colab": {
          "base_uri": "https://localhost:8080/"
        },
        "id": "npZ4HOckuwoq",
        "outputId": "0a4e148a-d366-461c-b9be-226f397c2209"
      },
      "execution_count": 79,
      "outputs": [
        {
          "output_type": "execute_result",
          "data": {
            "text/plain": [
              "tensor(9)"
            ]
          },
          "metadata": {},
          "execution_count": 79
        }
      ]
    },
    {
      "cell_type": "code",
      "source": [
        "%%time\n",
        "mult = torch.matmul(ten1,ten2)\n",
        "mult"
      ],
      "metadata": {
        "colab": {
          "base_uri": "https://localhost:8080/"
        },
        "id": "g4Si1NpZtzhc",
        "outputId": "ea1152fd-93a8-417c-b535-c7bfe3747979"
      },
      "execution_count": 77,
      "outputs": [
        {
          "output_type": "stream",
          "name": "stdout",
          "text": [
            "CPU times: user 0 ns, sys: 456 µs, total: 456 µs\n",
            "Wall time: 341 µs\n"
          ]
        },
        {
          "output_type": "execute_result",
          "data": {
            "text/plain": [
              "tensor(9)"
            ]
          },
          "metadata": {},
          "execution_count": 77
        }
      ]
    },
    {
      "cell_type": "code",
      "source": [
        "%%time\n",
        "value = 0\n",
        "for i in range (len(ten1)):\n",
        "  value += ten1[i] * ten2[i]\n",
        "  print(value)"
      ],
      "metadata": {
        "colab": {
          "base_uri": "https://localhost:8080/"
        },
        "id": "WeDYXHz9uBfJ",
        "outputId": "fc9f6185-4006-4b87-d5b3-7ee1c99feff1"
      },
      "execution_count": 78,
      "outputs": [
        {
          "output_type": "stream",
          "name": "stdout",
          "text": [
            "tensor(4)\n",
            "tensor(7)\n",
            "tensor(9)\n",
            "CPU times: user 3.29 ms, sys: 20 µs, total: 3.31 ms\n",
            "Wall time: 2.5 ms\n"
          ]
        }
      ]
    },
    {
      "cell_type": "markdown",
      "source": [
        "when multiplying tensors inner shapes must match"
      ],
      "metadata": {
        "id": "Kn-RpwlNvaEl"
      }
    },
    {
      "cell_type": "code",
      "source": [
        "tena = torch.rand(3,4)\n",
        "tenb =  torch.rand(4,10)\n",
        "inmatch = torch.matmul(tena,tenb)\n",
        "tena.shape,tenb.shape,inmatch.shape"
      ],
      "metadata": {
        "colab": {
          "base_uri": "https://localhost:8080/"
        },
        "id": "ayC-akzmvDeH",
        "outputId": "2f476187-1984-4009-b803-f7f38bc7c6b8"
      },
      "execution_count": 87,
      "outputs": [
        {
          "output_type": "execute_result",
          "data": {
            "text/plain": [
              "(torch.Size([3, 4]), torch.Size([4, 10]), torch.Size([3, 10]))"
            ]
          },
          "metadata": {},
          "execution_count": 87
        }
      ]
    },
    {
      "cell_type": "markdown",
      "source": [
        "Swap around shapes with transpose (tensor).T"
      ],
      "metadata": {
        "id": "4NPNjmK9wSbD"
      }
    },
    {
      "cell_type": "code",
      "source": [
        "tena.shape, tena.T.shape "
      ],
      "metadata": {
        "colab": {
          "base_uri": "https://localhost:8080/"
        },
        "id": "mXqIuMotv_ar",
        "outputId": "8692a7b2-5100-45b5-a309-534518ec45ee"
      },
      "execution_count": 90,
      "outputs": [
        {
          "output_type": "execute_result",
          "data": {
            "text/plain": [
              "(torch.Size([3, 4]), torch.Size([4, 3]))"
            ]
          },
          "metadata": {},
          "execution_count": 90
        }
      ]
    },
    {
      "cell_type": "code",
      "source": [
        "tenb.shape,tenb.T.shape"
      ],
      "metadata": {
        "colab": {
          "base_uri": "https://localhost:8080/"
        },
        "id": "8n3vDEj9wQxF",
        "outputId": "f348f68f-4748-4f90-8da5-a49a013819b3"
      },
      "execution_count": 91,
      "outputs": [
        {
          "output_type": "execute_result",
          "data": {
            "text/plain": [
              "(torch.Size([4, 10]), torch.Size([10, 4]))"
            ]
          },
          "metadata": {},
          "execution_count": 91
        }
      ]
    },
    {
      "cell_type": "code",
      "source": [],
      "metadata": {
        "id": "kUbIVE_bwcdR"
      },
      "execution_count": null,
      "outputs": []
    }
  ]
}