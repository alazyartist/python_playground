{
  "nbformat": 4,
  "nbformat_minor": 0,
  "metadata": {
    "colab": {
      "provenance": [],
      "authorship_tag": "ABX9TyP5ddzlGHdhQrl3qqlzAnN5",
      "include_colab_link": true
    },
    "kernelspec": {
      "name": "python3",
      "display_name": "Python 3"
    },
    "language_info": {
      "name": "python"
    }
  },
  "cells": [
    {
      "cell_type": "markdown",
      "metadata": {
        "id": "view-in-github",
        "colab_type": "text"
      },
      "source": [
        "<a href=\"https://colab.research.google.com/github/alazyartist/python_playground/blob/master/PythonBasics.ipynb\" target=\"_parent\"><img src=\"https://colab.research.google.com/assets/colab-badge.svg\" alt=\"Open In Colab\"/></a>"
      ]
    },
    {
      "cell_type": "code",
      "execution_count": 4,
      "metadata": {
        "colab": {
          "base_uri": "https://localhost:8080/"
        },
        "id": "vPqKHrspwvQy",
        "outputId": "f50c97b5-ea2a-4e72-cc19-844d71ded7b0"
      },
      "outputs": [
        {
          "output_type": "stream",
          "name": "stdout",
          "text": [
            "some string text\n"
          ]
        }
      ],
      "source": [
        "var ='some string text'\n",
        "print(var)"
      ]
    },
    {
      "cell_type": "code",
      "source": [
        "arr = ['some','arr','of','strings']"
      ],
      "metadata": {
        "id": "BP2xrkNyw9sE"
      },
      "execution_count": 7,
      "outputs": []
    },
    {
      "cell_type": "code",
      "source": [
        "for item in arr:\n",
        "  print(item)"
      ],
      "metadata": {
        "colab": {
          "base_uri": "https://localhost:8080/"
        },
        "id": "W1iWLLiSxIjm",
        "outputId": "1e395f0b-bb81-44e2-8ff4-76483991db61"
      },
      "execution_count": 9,
      "outputs": [
        {
          "output_type": "stream",
          "name": "stdout",
          "text": [
            "some\n",
            "arr\n",
            "of\n",
            "strings\n"
          ]
        }
      ]
    },
    {
      "cell_type": "code",
      "source": [
        "testdict = dict({'one':1,'two':'2'})\n",
        "testdict\n",
        "for item in testdict:\n",
        "  txt = '{0}:{1}'.format(item,testdict[item])\n",
        "  print(txt)"
      ],
      "metadata": {
        "colab": {
          "base_uri": "https://localhost:8080/"
        },
        "id": "wHPoVyU0xfdF",
        "outputId": "c7a94a12-5ecd-4320-eab0-b0eee29832c2"
      },
      "execution_count": 51,
      "outputs": [
        {
          "output_type": "stream",
          "name": "stdout",
          "text": [
            "one:1\n",
            "two:2\n"
          ]
        }
      ]
    },
    {
      "cell_type": "code",
      "source": [
        "testdict3 = dict({'somecrazykeay':'4','someothercrazykey':5})\n",
        "  \n",
        "testdict3"
      ],
      "metadata": {
        "colab": {
          "base_uri": "https://localhost:8080/"
        },
        "id": "cx9SRpmKzLxS",
        "outputId": "6278d9f7-3c5f-4320-d2cc-88aaa29dc056"
      },
      "execution_count": 64,
      "outputs": [
        {
          "output_type": "execute_result",
          "data": {
            "text/plain": [
              "{'somecrazykeay': '4', 'someothercrazykey': 5}"
            ]
          },
          "metadata": {},
          "execution_count": 64
        }
      ]
    },
    {
      "cell_type": "code",
      "source": [
        "def printdict (somedict):\n",
        "  for item in somedict:\n",
        "    txt = '{0}:{1}'.format(item,somedict[item])\n",
        "    print(txt)\n",
        "\n",
        "printdict(testdict)\n",
        "printdict(testdict3)"
      ],
      "metadata": {
        "colab": {
          "base_uri": "https://localhost:8080/"
        },
        "id": "0miAvZ6ly1pn",
        "outputId": "ac23a563-0f8f-498e-cd71-6ac3270ce6d6"
      },
      "execution_count": 66,
      "outputs": [
        {
          "output_type": "stream",
          "name": "stdout",
          "text": [
            "one:1\n",
            "two:2\n",
            "somecrazykeay:4\n",
            "someothercrazykey:5\n"
          ]
        }
      ]
    },
    {
      "cell_type": "code",
      "source": [
        "arrofdict = [testdict,testdict3]\n",
        "arrofdict"
      ],
      "metadata": {
        "colab": {
          "base_uri": "https://localhost:8080/"
        },
        "id": "cfsM6VdN2LHH",
        "outputId": "aea78484-4bf8-453f-a733-c8fbb2d2fe84"
      },
      "execution_count": 78,
      "outputs": [
        {
          "output_type": "execute_result",
          "data": {
            "text/plain": [
              "[{'one': 1, 'two': '2'}, {'somecrazykeay': '4', 'someothercrazykey': 5}]"
            ]
          },
          "metadata": {},
          "execution_count": 78
        }
      ]
    },
    {
      "cell_type": "code",
      "source": [
        "class testClass:\n",
        "  testVal=42\n",
        "  def f(self):\n",
        "    return 'hello world'\n",
        "  def getVal(self,num=0):\n",
        "    return self.testVal + num\n",
        "\n",
        "\n",
        "TestClass = testClass()\n",
        "TestClass.f(), TestClass.getVal(),TestClass.getVal(4)"
      ],
      "metadata": {
        "colab": {
          "base_uri": "https://localhost:8080/"
        },
        "id": "e-ptlYQ23EnS",
        "outputId": "da283728-1806-425d-9216-75525038d13a"
      },
      "execution_count": 89,
      "outputs": [
        {
          "output_type": "execute_result",
          "data": {
            "text/plain": [
              "('hello world', 42, 46)"
            ]
          },
          "metadata": {},
          "execution_count": 89
        }
      ]
    },
    {
      "cell_type": "code",
      "source": [
        "class build:\n",
        "  def __init__(self,name,age):\n",
        "    self.name = name\n",
        "    self.age = age\n",
        "\n",
        "built = build('carl',52)\n",
        "built2 = build('kevin',41)\n",
        "print(built.name, built.age)\n",
        "print(built2.name,built2.age)"
      ],
      "metadata": {
        "colab": {
          "base_uri": "https://localhost:8080/"
        },
        "id": "z4eO2Qa746eD",
        "outputId": "72a5926f-f7d8-40f4-e6ac-dc96afd29a03"
      },
      "execution_count": 100,
      "outputs": [
        {
          "output_type": "stream",
          "name": "stdout",
          "text": [
            "carl 52\n",
            "kevin 41\n"
          ]
        }
      ]
    }
  ]
}